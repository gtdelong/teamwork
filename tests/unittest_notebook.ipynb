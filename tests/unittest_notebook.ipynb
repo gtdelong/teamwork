{
 "cells": [
  {
   "cell_type": "code",
   "execution_count": 1,
   "metadata": {},
   "outputs": [],
   "source": [
    "import unittest\n",
    "from context import teamwork, utils\n",
    "from teamwork import teamwork as tw\n",
    "from utils import utils as u\n",
    "import pandas as pd\n",
    "import numpy as np\n",
    "from constants import data, test_visit_id, data_sm_result, data_hf"
   ]
  },
  {
   "cell_type": "code",
   "execution_count": 2,
   "metadata": {},
   "outputs": [
    {
     "name": "stderr",
     "output_type": "stream",
     "text": [
      "test__prepare_note_data (__main__.TestTeamworkCorpus) ... ok\n",
      "\n",
      "----------------------------------------------------------------------\n",
      "Ran 1 test in 0.040s\n",
      "\n",
      "OK\n"
     ]
    },
    {
     "data": {
      "text/plain": [
       "<unittest.main.TestProgram at 0x2aa04bb2940>"
      ]
     },
     "execution_count": 2,
     "metadata": {},
     "output_type": "execute_result"
    }
   ],
   "source": [
    "def get_tw_df_from_dict(df_dict, types):\n",
    "    return pd.DataFrame.from_dict(df_dict, orient=\"index\").astype(types)\n",
    "\n",
    "default_date_types = {\"date\": \"datetime64\", \"arrive_date\": \"datetime64\"}\n",
    "derived_date_types = {\"norm_admission_date\": \"datetime64\", \"norm_note_date\": \"datetime64\"} \n",
    "\n",
    "class TestTeamworkCorpus(unittest.TestCase):\n",
    "    \n",
    "    def test__prepare_note_data(self):\n",
    "        # Arrange\n",
    "        test_df = get_tw_df_from_dict(data_hf, default_date_types)\n",
    "        test_df = test_df.iloc[9:12,:]\n",
    "        columns = {**tw.default_columns}\n",
    "        team_delta = np.timedelta64(2, \"D\")\n",
    "\n",
    "        # Act\n",
    "        tw._prepare_note_data(test_df, columns, team_delta)\n",
    "\n",
    "        #Assert\n",
    "        expected_df = get_tw_df_from_dict(data_sm_result, {**default_date_types, **derived_date_types})\n",
    "        pd.testing.assert_frame_equal(test_df, expected_df, check_like=True)\n",
    "        \n",
    "\n",
    "unittest.main(argv=['-v'], verbosity=2, exit=False)"
   ]
  },
  {
   "cell_type": "code",
   "execution_count": null,
   "metadata": {},
   "outputs": [],
   "source": [
    "test_df = get_tw_df_from_dict(data_hf, default_date_types)"
   ]
  },
  {
   "cell_type": "code",
   "execution_count": 3,
   "metadata": {},
   "outputs": [
    {
     "data": {
      "text/plain": [
       "{'team': {'Albert Romero',\n",
       "  'Evan Frazier',\n",
       "  'Margie Meyer',\n",
       "  'Victoria Washington'},\n",
       " 'graph': <networkx.classes.graph.Graph at 0x2aa04c70220>,\n",
       " 'dx_graph': <networkx.classes.graph.Graph at 0x2aa04c70580>}"
      ]
     },
     "execution_count": 3,
     "metadata": {},
     "output_type": "execute_result"
    }
   ],
   "source": [
    "test_df = pd.DataFrame.from_dict(data_hf, orient=\"index\").astype(\n",
    "            {\"date\": \"datetime64\", \"arrive_date\": \"datetime64\"}\n",
    "        )\n",
    "\n",
    "# Act\n",
    "corpus = tw.TeamworkCorpus(test_df)\n",
    "corpus.team_experience_dict[test_visit_id]\n",
    "# actual_teamsize = len(corpus.team_experience_dict[test_visit_id]['team'])\n",
    "\n",
    "# # Assert\n",
    "# expected_teamsize = 4\n",
    "# self.assertEqual(expected_teamsize, actual_teamsize)"
   ]
  }
 ],
 "metadata": {
  "kernelspec": {
   "display_name": "Python 3",
   "language": "python",
   "name": "python3"
  },
  "language_info": {
   "codemirror_mode": {
    "name": "ipython",
    "version": 3
   },
   "file_extension": ".py",
   "mimetype": "text/x-python",
   "name": "python",
   "nbconvert_exporter": "python",
   "pygments_lexer": "ipython3",
   "version": "3.8.3"
  }
 },
 "nbformat": 4,
 "nbformat_minor": 4
}
