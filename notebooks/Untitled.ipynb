{
 "cells": [
  {
   "cell_type": "code",
   "execution_count": 1,
   "metadata": {},
   "outputs": [],
   "source": [
    "import os\n",
    "import sys\n",
    "import time\n",
    "from datetime import datetime\n",
    "\n",
    "import numpy as np\n",
    "import pandas as pd\n",
    "\n",
    "# Import from the parent directory\n",
    "sys.path.append(os.path.join(os.getcwd(), \"..\"))\n",
    "from teamwork import teamwork as tw\n",
    "from utils.utils import *"
   ]
  },
  {
   "cell_type": "code",
   "execution_count": 3,
   "metadata": {},
   "outputs": [
    {
     "name": "stdout",
     "output_type": "stream",
     "text": [
      "<class 'pandas.core.frame.DataFrame'>\n",
      "RangeIndex: 769429 entries, 0 to 769428\n",
      "Data columns (total 4 columns):\n",
      " #   Column          Non-Null Count   Dtype \n",
      "---  ------          --------------   ----- \n",
      " 0   author          769429 non-null  int64 \n",
      " 1   note_date       769284 non-null  object\n",
      " 2   admission_date  769429 non-null  object\n",
      " 3   id              769429 non-null  int64 \n",
      "dtypes: int64(2), object(2)\n",
      "memory usage: 23.5+ MB\n"
     ]
    }
   ],
   "source": [
    "custom_date_parser = lambda x: datetime.strptime(x, \"%Y-%d-%m %H:%M:%S\")\n",
    "\n",
    "notes_table = pd.read_csv('../data/notes_6May2021_anonymous.csv', parse_dates=['note_date','admission_date'])\n",
    "notes_table.info()"
   ]
  }
 ],
 "metadata": {
  "kernelspec": {
   "display_name": "Python 3",
   "language": "python",
   "name": "python3"
  },
  "language_info": {
   "codemirror_mode": {
    "name": "ipython",
    "version": 3
   },
   "file_extension": ".py",
   "mimetype": "text/x-python",
   "name": "python",
   "nbconvert_exporter": "python",
   "pygments_lexer": "ipython3",
   "version": "3.8.6"
  }
 },
 "nbformat": 4,
 "nbformat_minor": 4
}
