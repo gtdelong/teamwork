{
 "cells": [
  {
   "cell_type": "code",
   "execution_count": 39,
   "metadata": {},
   "outputs": [
    {
     "name": "stdout",
     "output_type": "stream",
     "text": [
      "   discharge_id    dr                date\n",
      "0             0   dr4 2020-11-13 19:15:09\n",
      "1             0  dr19 2020-11-13 10:19:28\n",
      "2             0  dr19 2020-11-15 17:09:15\n",
      "3             0   dr4 2020-11-10 16:48:03\n",
      "4             0  dr26 2020-11-13 13:41:09\n",
      "(1143, 3)\n",
      "   id   patient         arrive_date      discharge_date  disposition  age\n",
      "0   0  patient1 2020-11-09 12:46:46 2020-11-15 16:38:33            0   72\n",
      "1   1  patient2 2020-06-27 04:17:28 2020-07-03 12:24:36            0   73\n",
      "2   2  patient3 2020-10-27 11:28:04 2020-11-02 19:08:36            0   67\n",
      "3   3  patient4 2020-07-19 16:11:45 2020-07-25 22:53:00            0   71\n",
      "4   4  patient5 2020-12-05 00:33:37 2020-12-11 14:11:50            0   76\n",
      "(70, 6)\n"
     ]
    }
   ],
   "source": [
    "# TODO: refactor this into utility\n",
    "\n",
    "import random\n",
    "from itertools import chain\n",
    "import pandas as pd\n",
    "import networkx as nx\n",
    "from itertools import combinations  \n",
    "import requests \n",
    "import numpy as np\n",
    "# from datetime import datetime, date, timedelta\n",
    "\n",
    "class DataGenerator:\n",
    "    def __init__(self,num_docs=10,num_patients=100,min_notes_per_discharge=5,max_notes_per_discharge=10,\n",
    "                 max_stay_per_patient=6,start=None,end=None):\n",
    "        self.MIN_NOTES_PER_DIS = min_notes_per_discharge\n",
    "        self.MAX_NOTES_PER_DIS = max_notes_per_discharge\n",
    "        self.MAX_STAY_PER_PATIENT = max_stay_per_patient     \n",
    "        self.drs = [name for name in self._get_random_names(num_docs)]\n",
    "        self.drs_non_collab = [name for name in self._get_random_names(num_docs)]\n",
    "        self.patients = [name for name in self._get_random_names(num_patients, \"patient\")]    \n",
    "        self.end = np.datetime64('now') if end == None else np.datetime64(end)\n",
    "        self.start = self.end - np.timedelta64(365,'D') if start == None else np.datetime64(start)\n",
    "        self._create_date_range()\n",
    "        self._generate_data()\n",
    "\n",
    "    def _get_random_names(self,count, prefix=\"dr\"):\n",
    "#         response = requests.get(f'https://randomuser.me/api?results={count}&inc=name&nat=us,gb,es')\n",
    "#         names = [f\"{user['name']['first']} {user['name']['last']}\" for user in response.json()['results']]\n",
    "        names = [f\"{prefix}{i+1}\" for i in range(0,count)]\n",
    "        return names\n",
    "\n",
    "    def _get_date(self):\n",
    "        return random.choice(self.date_range) + np.timedelta64(random.randint(1,86400),'s')\n",
    "\n",
    "    def _generate_notes_for_discharge(self, discharge):\n",
    "#         disposition = discharge[4]\n",
    "#         dr_list = self.drs if disposition < 1 else self.drs_non_collab\n",
    "        dr_list = random.choices(self.drs,k=random.randint(6,10))\n",
    "        notes = [(discharge[0], random.choice(dr_list), discharge[2] + self._get_random_timedelta()) \n",
    "                 for _ in range(0, random.randint(self.MIN_NOTES_PER_DIS,self.MAX_NOTES_PER_DIS))]\n",
    "        return notes\n",
    "\n",
    "    def _create_date_range(self):\n",
    "        dr = np.arange(self.start, self.end, np.timedelta64(1, 'D'))\n",
    "        self.date_range = dr\n",
    "#         self.date_range = [date for date in dr.astype(object)]\n",
    "\n",
    "    def _generate_notes(self,discharges):\n",
    "        for d in discharges:\n",
    "            yield self._generate_notes_for_discharge(d)\n",
    "\n",
    "    def _get_random_timedelta(self):\n",
    "        return np.timedelta64(random.randint(1,self.MAX_STAY_PER_PATIENT - 1), 'D') + np.timedelta64(random.randint(1,86400),'s')\n",
    "    \n",
    "    def _flip(self):\n",
    "        return 0 if random.random() > .1 else 1\n",
    "\n",
    "    def _generate_data(self):  \n",
    "        discharges = [(i, p, d := self._get_date(), d + np.timedelta64(self.MAX_STAY_PER_PATIENT - 1,'D') + np.timedelta64(random.randint(1,86400),'s'), self._flip(), random.randint(65,80))\n",
    "            for i,p in enumerate(self.patients)]\n",
    "\n",
    "        notes = list(chain.from_iterable(self._generate_notes(discharges)))\n",
    "        \n",
    "        dis_columns = ['id', 'patient', 'arrive_date', 'discharge_date', 'disposition', 'age']\n",
    "\n",
    "        self.dis_df = pd.DataFrame(discharges, columns=dis_columns)\n",
    "\n",
    "        note_columns=['discharge_id', 'dr', 'date']\n",
    "        \n",
    "        self.note_df = pd.DataFrame(notes, columns=note_columns)\n",
    "    \n",
    "if __name__ == \"__main__\":\n",
    "    data = DataGenerator(num_docs=30, num_patients=70, max_stay_per_patient=7,min_notes_per_discharge=15,max_notes_per_discharge=18)\n",
    "    print(data.note_df.head())\n",
    "    print(data.note_df.shape)\n",
    "    print(data.dis_df.head())\n",
    "    print(data.dis_df.shape)\n",
    "    \n",
    "    data.note_df.to_csv('../data/notes_w_datetime.csv', index=False)\n",
    "    data.dis_df.to_csv('../data/discharges_w_datetime.csv', index=False)\n",
    "\n"
   ]
  },
  {
   "cell_type": "code",
   "execution_count": null,
   "metadata": {},
   "outputs": [],
   "source": [
    "def get_random_names(count, prefix=\"dr\"):\n",
    "    names = [f\"{prefix}{i}\" for i in range(1,count)]\n",
    "    return names\n",
    "\n",
    "names = get_random_names(10)\n",
    "\n",
    "choices = random.choices(names,k=5)\n",
    "\n",
    "print(choices)"
   ]
  },
  {
   "cell_type": "code",
   "execution_count": 38,
   "metadata": {},
   "outputs": [
    {
     "name": "stdout",
     "output_type": "stream",
     "text": [
      "2021-05-05T12:16:49\n"
     ]
    }
   ],
   "source": [
    "import numpy as np\n",
    "import datetime\n",
    "\n",
    "# end = np.datetime64('now')\n",
    "# start = end - np.timedelta64(365,'D')\n",
    "# dr = np.arange(start, end, np.timedelta64(1, 'D'))\n",
    "# rd = np.random.choice(dr) + np.timedelta64(np.random.choice(range(1, 1440)),'s')\n",
    "\n",
    "# print(rd)\n",
    "now = np.datetime64('now')\n",
    "later = now + np.timedelta64(np.random.choice(range(1, 86400)),'s')\n",
    "print(later)"
   ]
  },
  {
   "cell_type": "code",
   "execution_count": null,
   "metadata": {},
   "outputs": [],
   "source": []
  }
 ],
 "metadata": {
  "kernelspec": {
   "display_name": "Python 3",
   "language": "python",
   "name": "python3"
  },
  "language_info": {
   "codemirror_mode": {
    "name": "ipython",
    "version": 3
   },
   "file_extension": ".py",
   "mimetype": "text/x-python",
   "name": "python",
   "nbconvert_exporter": "python",
   "pygments_lexer": "ipython3",
   "version": "3.8.6"
  }
 },
 "nbformat": 4,
 "nbformat_minor": 4
}
