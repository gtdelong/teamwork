{
 "cells": [
  {
   "cell_type": "code",
   "execution_count": 1,
   "metadata": {},
   "outputs": [
    {
     "name": "stdout",
     "output_type": "stream",
     "text": [
      "   discharge_id                   dr       date\n",
      "0             0    Dolores Hernandez 2021-01-09\n",
      "1             0           Mario Dunn 2021-01-09\n",
      "2             1         Dora Gregory 2020-08-21\n",
      "3             1  Patricia Washington 2020-08-21\n",
      "4             1           Ivan Ramos 2020-08-21\n",
      "(516, 3)\n"
     ]
    }
   ],
   "source": [
    "# TODO: refactor this into utility\n",
    "\n",
    "import random\n",
    "from itertools import chain\n",
    "import pandas as pd\n",
    "import networkx as nx\n",
    "from itertools import combinations  \n",
    "import requests \n",
    "import numpy as np\n",
    "from datetime import datetime, date, timedelta\n",
    "\n",
    "class DataGenerator:\n",
    "    def __init__(self,num_docs=10,num_patients=100,max_notes_per_discharge=10,max_stay_per_patient=6,start=None,end=None):\n",
    "        self.MAX_NOTES_PER_DIS = max_notes_per_discharge\n",
    "        self.MAX_STAY_PER_PATIENT = max_stay_per_patient     \n",
    "        self.drs = [name for name in self._get_random_names(num_docs)]\n",
    "        self.patients = [name for name in self._get_random_names(num_patients)]    \n",
    "        self.end = datetime.now() if end == None else end\n",
    "        self.start = datetime(self.end.year-1,self.end.month,self.end.day) if start == None else start\n",
    "        self._create_date_range()\n",
    "        self._generate_data()\n",
    "\n",
    "    def _get_random_names(self,count):\n",
    "        response = requests.get(f'https://randomuser.me/api?results={count}&inc=name&nat=us,gb,es')\n",
    "        names = [f\"{user['name']['first']} {user['name']['last']}\" for user in response.json()['results']]\n",
    "        return names\n",
    "\n",
    "    def _get_date(self):\n",
    "        return random.choice(self.date_range)\n",
    "\n",
    "    def _generate_notes_for_discharge(self, discharge):\n",
    "        notes = [(discharge[0], random.choice(self.drs), discharge[2]) \n",
    "                 for _ in range(0, random.randint(1,self.MAX_NOTES_PER_DIS))]\n",
    "        return notes\n",
    "\n",
    "    def _create_date_range(self):\n",
    "        dr = np.arange(self.start, self.end, np.timedelta64(1, 'D'))\n",
    "        self.date_range = [date for date in dr.astype(object)]\n",
    "\n",
    "    def _generate_notes(self,discharges):\n",
    "        for d in discharges:\n",
    "            yield self._generate_notes_for_discharge(d)\n",
    "\n",
    "    def _get_random_timedelta(self):\n",
    "        return timedelta(days=random.randint(1,self.MAX_STAY_PER_PATIENT))\n",
    "\n",
    "    def _generate_data(self):  \n",
    "        discharges = [(i, p, d := self._get_date(), d + self._get_random_timedelta())\n",
    "            for i,p in enumerate(self.patients)]\n",
    "\n",
    "        notes = list(chain.from_iterable(self._generate_notes(discharges)))\n",
    "\n",
    "        self.dis_df = pd.DataFrame(discharges, columns=['id', 'patient', 'arrive_date', 'discharge_date'])\n",
    "\n",
    "        self.note_df = pd.DataFrame(notes, columns=['discharge_id', 'dr', 'date'])\n",
    "    \n",
    "if __name__ == \"__main__\":\n",
    "    data = DataGenerator()\n",
    "    print(data.note_df.head())\n",
    "    print(data.note_df.shape)\n",
    "\n"
   ]
  },
  {
   "cell_type": "code",
   "execution_count": null,
   "metadata": {},
   "outputs": [],
   "source": []
  }
 ],
 "metadata": {
  "kernelspec": {
   "display_name": "Python 3",
   "language": "python",
   "name": "python3"
  },
  "language_info": {
   "codemirror_mode": {
    "name": "ipython",
    "version": 3
   },
   "file_extension": ".py",
   "mimetype": "text/x-python",
   "name": "python",
   "nbconvert_exporter": "python",
   "pygments_lexer": "ipython3",
   "version": "3.8.6"
  }
 },
 "nbformat": 4,
 "nbformat_minor": 4
}
