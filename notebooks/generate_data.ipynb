{
 "cells": [
  {
   "cell_type": "code",
   "execution_count": 3,
   "metadata": {},
   "outputs": [
    {
     "name": "stdout",
     "output_type": "stream",
     "text": [
      "   discharge_id     dr       date\n",
      "0             0  dr180 2020-06-06\n",
      "1             0   dr64 2020-06-11\n",
      "2             0  dr180 2020-06-11\n",
      "3             0  dr187 2020-06-08\n",
      "4             0  dr214 2020-06-10\n",
      "(115574, 3)\n",
      "   id   patient arrive_date discharge_date  disposition  age\n",
      "0   0  patient1  2020-06-05     2020-06-12            0   68\n",
      "1   1  patient2  2020-12-01     2020-12-08            0   69\n",
      "2   2  patient3  2021-02-06     2021-02-13            0   80\n",
      "3   3  patient4  2020-08-12     2020-08-19            1   77\n",
      "4   4  patient5  2020-08-05     2020-08-12            1   75\n",
      "(700, 6)\n"
     ]
    }
   ],
   "source": [
    "# TODO: refactor this into utility\n",
    "\n",
    "import random\n",
    "from itertools import chain\n",
    "import pandas as pd\n",
    "import networkx as nx\n",
    "from itertools import combinations  \n",
    "import requests \n",
    "import numpy as np\n",
    "from datetime import datetime, date, timedelta\n",
    "\n",
    "class DataGenerator:\n",
    "    def __init__(self,num_docs=10,num_patients=100,min_notes_per_discharge=5,max_notes_per_discharge=10,\n",
    "                 max_stay_per_patient=6,start=None,end=None):\n",
    "        self.MIN_NOTES_PER_DIS = min_notes_per_discharge\n",
    "        self.MAX_NOTES_PER_DIS = max_notes_per_discharge\n",
    "        self.MAX_STAY_PER_PATIENT = max_stay_per_patient     \n",
    "        self.drs = [name for name in self._get_random_names(num_docs)]\n",
    "        self.drs_non_collab = [name for name in self._get_random_names(num_docs)]\n",
    "        self.patients = [name for name in self._get_random_names(num_patients, \"patient\")]    \n",
    "        self.end = datetime.now() if end == None else end\n",
    "        self.start = datetime(self.end.year-1,self.end.month,self.end.day) if start == None else start\n",
    "        self._create_date_range()\n",
    "        self._generate_data()\n",
    "\n",
    "    def _get_random_names(self,count, prefix=\"dr\"):\n",
    "#         response = requests.get(f'https://randomuser.me/api?results={count}&inc=name&nat=us,gb,es')\n",
    "#         names = [f\"{user['name']['first']} {user['name']['last']}\" for user in response.json()['results']]\n",
    "        names = [f\"{prefix}{i+1}\" for i in range(0,count)]\n",
    "        return names\n",
    "\n",
    "    def _get_date(self):\n",
    "        return random.choice(self.date_range)\n",
    "\n",
    "    def _generate_notes_for_discharge(self, discharge):\n",
    "#         disposition = discharge[4]\n",
    "#         dr_list = self.drs if disposition < 1 else self.drs_non_collab\n",
    "        dr_list = random.choices(self.drs,k=random.randint(6,10))\n",
    "        notes = [(discharge[0], random.choice(dr_list), discharge[2] + self._get_random_timedelta()) \n",
    "                 for _ in range(0, random.randint(self.MIN_NOTES_PER_DIS,self.MAX_NOTES_PER_DIS))]\n",
    "        return notes\n",
    "\n",
    "    def _create_date_range(self):\n",
    "        dr = np.arange(self.start, self.end, np.timedelta64(1, 'D'))\n",
    "        self.date_range = [date for date in dr.astype(object)]\n",
    "\n",
    "    def _generate_notes(self,discharges):\n",
    "        for d in discharges:\n",
    "            yield self._generate_notes_for_discharge(d)\n",
    "\n",
    "    def _get_random_timedelta(self):\n",
    "        return timedelta(days=random.randint(1,self.MAX_STAY_PER_PATIENT))\n",
    "    \n",
    "    def _flip(self):\n",
    "        return 0 if random.random() > .1 else 1\n",
    "\n",
    "    def _generate_data(self):  \n",
    "        discharges = [(i, p, d := self._get_date(), d + timedelta(days=self.MAX_STAY_PER_PATIENT), self._flip(), random.randint(65,80))\n",
    "            for i,p in enumerate(self.patients)]\n",
    "\n",
    "        notes = list(chain.from_iterable(self._generate_notes(discharges)))\n",
    "        \n",
    "        dis_columns = ['id', 'patient', 'arrive_date', 'discharge_date', 'disposition', 'age']\n",
    "\n",
    "        self.dis_df = pd.DataFrame(discharges, columns=dis_columns)\n",
    "\n",
    "        note_columns=['discharge_id', 'dr', 'date']\n",
    "        \n",
    "        self.note_df = pd.DataFrame(notes, columns=note_columns)\n",
    "    \n",
    "if __name__ == \"__main__\":\n",
    "    data = DataGenerator(num_docs=300, num_patients=700, max_stay_per_patient=7,min_notes_per_discharge=150,max_notes_per_discharge=180)\n",
    "    print(data.note_df.head())\n",
    "    print(data.note_df.shape)\n",
    "    print(data.dis_df.head())\n",
    "    print(data.dis_df.shape)\n",
    "    \n",
    "    data.note_df.to_csv('../data/notes_w_disposition_abdul_test.csv', index=False)\n",
    "    data.dis_df.to_csv('../data/discharges_w_disposition_abdul_test.csv', index=False)\n",
    "\n"
   ]
  },
  {
   "cell_type": "code",
   "execution_count": 24,
   "metadata": {},
   "outputs": [
    {
     "name": "stdout",
     "output_type": "stream",
     "text": [
      "['dr3', 'dr5', 'dr6', 'dr3', 'dr4']\n"
     ]
    }
   ],
   "source": [
    "def get_random_names(count, prefix=\"dr\"):\n",
    "    names = [f\"{prefix}{i}\" for i in range(1,count)]\n",
    "    return names\n",
    "\n",
    "names = get_random_names(10)\n",
    "\n",
    "choices = random.choices(names,k=5)\n",
    "\n",
    "print(choices)"
   ]
  },
  {
   "cell_type": "code",
   "execution_count": 5,
   "metadata": {},
   "outputs": [
    {
     "data": {
      "text/html": [
       "<div>\n",
       "<style scoped>\n",
       "    .dataframe tbody tr th:only-of-type {\n",
       "        vertical-align: middle;\n",
       "    }\n",
       "\n",
       "    .dataframe tbody tr th {\n",
       "        vertical-align: top;\n",
       "    }\n",
       "\n",
       "    .dataframe thead th {\n",
       "        text-align: right;\n",
       "    }\n",
       "</style>\n",
       "<table border=\"1\" class=\"dataframe\">\n",
       "  <thead>\n",
       "    <tr style=\"text-align: right;\">\n",
       "      <th></th>\n",
       "      <th>id</th>\n",
       "      <th>name</th>\n",
       "    </tr>\n",
       "  </thead>\n",
       "  <tbody>\n",
       "    <tr>\n",
       "      <th>0</th>\n",
       "      <td>1</td>\n",
       "      <td>grant</td>\n",
       "    </tr>\n",
       "    <tr>\n",
       "      <th>1</th>\n",
       "      <td>1</td>\n",
       "      <td>henry</td>\n",
       "    </tr>\n",
       "  </tbody>\n",
       "</table>\n",
       "</div>"
      ],
      "text/plain": [
       "   id   name\n",
       "0   1  grant\n",
       "1   1  henry"
      ]
     },
     "execution_count": 5,
     "metadata": {},
     "output_type": "execute_result"
    }
   ],
   "source": [
    "l = []\n",
    "l.append({'id':1,'name':'grant'})\n",
    "l.append({'id':1,'name':'henry'})\n",
    "l_df = pd.DataFrame.from_dict(l)\n",
    "l_df.head()"
   ]
  }
 ],
 "metadata": {
  "kernelspec": {
   "display_name": "Python 3",
   "language": "python",
   "name": "python3"
  },
  "language_info": {
   "codemirror_mode": {
    "name": "ipython",
    "version": 3
   },
   "file_extension": ".py",
   "mimetype": "text/x-python",
   "name": "python",
   "nbconvert_exporter": "python",
   "pygments_lexer": "ipython3",
   "version": "3.8.6"
  }
 },
 "nbformat": 4,
 "nbformat_minor": 4
}
