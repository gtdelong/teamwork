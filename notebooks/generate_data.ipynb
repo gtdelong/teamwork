{
 "cells": [
  {
   "cell_type": "code",
   "execution_count": 1,
   "metadata": {},
   "outputs": [],
   "source": [
    "import random\n",
    "from datetime import datetime, date, timedelta\n",
    "from itertools import chain\n",
    "import pandas as pd\n",
    "import networkx as nx\n",
    "from itertools import combinations  \n",
    "import requests \n",
    "import numpy as np\n",
    "\n",
    "NUM_DOCS = 10\n",
    "NUM_PATIENTS = 100\n",
    "MAX_NOTES_PER_DIS = 10\n",
    "MAX_STAY_PER_PATIENT = 6\n",
    "\n",
    "def get_random_names(count):\n",
    "    response = requests.get(f'https://randomuser.me/api?results={count}&inc=name&nat=us,gb,es')\n",
    "    names = [f\"{user['name']['first']} {user['name']['last']}\" for user in response.json()['results']]\n",
    "    return names\n",
    "\n",
    "drs = [name for name in get_random_names(NUM_DOCS)]\n",
    "\n",
    "patients = [name for name in get_random_names(NUM_PATIENTS)]\n",
    "\n",
    "def get_date():\n",
    "    month = random.randint(1,12)\n",
    "    day = random.randint(1,28)\n",
    "    return datetime(2019, month, day)\n",
    "\n",
    "def generate_notes_for_discharge(discharge):\n",
    "    notes = [(discharge[0], random.choice(drs), discharge[2]) \n",
    "             for _ in range(0, random.randint(1,MAX_NOTES_PER_DIS))]\n",
    "    return notes\n",
    "\n",
    "def get_date_range(start, end):\n",
    "    return np.arange(start, end, np.timedelta64(1, 'D'))\n",
    "\n",
    "def generate_notes(discharges):\n",
    "    for d in discharges:\n",
    "        yield generate_notes_for_discharge(d)\n",
    "        \n",
    "def get_random_timedelta():\n",
    "    return timedelta(days=random.randint(1,MAX_STAY_PER_PATIENT))\n",
    "\n",
    "discharges = [(i, p, d := get_date(), d + get_random_timedelta())\n",
    "    for i,p in enumerate(patients)]\n",
    "\n",
    "notes = list(chain.from_iterable(generate_notes(discharges)))\n",
    "\n",
    "dis_df = pd.DataFrame(discharges, columns=['id', 'patient', 'arrive_date', 'discharge_date'])\n",
    "\n",
    "note_df = pd.DataFrame(notes, columns=['discharge_id', 'dr', 'date'])\n",
    "\n",
    "dis_df.to_csv('./data/discharges.csv', index=False, sep=',')\n",
    "\n",
    "note_df.to_csv('./data/notes.csv', index=False, sep=',')\n"
   ]
  }
 ],
 "metadata": {
  "kernelspec": {
   "display_name": "Python 3",
   "language": "python",
   "name": "python3"
  },
  "language_info": {
   "codemirror_mode": {
    "name": "ipython",
    "version": 3
   },
   "file_extension": ".py",
   "mimetype": "text/x-python",
   "name": "python",
   "nbconvert_exporter": "python",
   "pygments_lexer": "ipython3",
   "version": "3.8.6"
  }
 },
 "nbformat": 4,
 "nbformat_minor": 4
}
