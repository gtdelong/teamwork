{
 "cells": [
  {
   "cell_type": "markdown",
   "metadata": {},
   "source": [
    "## Define classes to organize network creation logic\n",
    "One collaboration graph is built for the whole 90 day window, so this may need to be refactored to do the coefficient calculations per team per day."
   ]
  },
  {
   "cell_type": "code",
   "execution_count": 1,
   "metadata": {},
   "outputs": [],
   "source": [
    "import random\n",
    "from datetime import datetime, date, timedelta\n",
    "from itertools import chain\n",
    "import pandas as pd\n",
    "import networkx as nx\n",
    "from itertools import combinations  \n",
    "import numpy as np\n",
    "import time\n",
    "\n",
    "class CollaborationNetworkGraph:\n",
    "    def __init__(self, note_df):\n",
    "        \"\"\"notes_df is assumed to be sorted by date\"\"\"\n",
    "        self.note_df = note_df\n",
    "        self.G = nx.Graph()\n",
    "        self.unique_dates = note_df.date.unique()\n",
    "        self.__create_graph()\n",
    "        \n",
    "    def __create_graph(self):\n",
    "        for note_date in self.unique_dates:\n",
    "            notes_for_date = self.note_df.query('date == @note_date')\n",
    "            discharge_ids_for_date = notes_for_date.discharge_id.unique()\n",
    "            for discharge_id in discharge_ids_for_date:\n",
    "                drs_for_discharge_id = notes_for_date.query('discharge_id == @discharge_id').dr.unique()\n",
    "                for comb in list(combinations(drs_for_discharge_id, 2)): self.__add_edge_to_G(*comb)\n",
    "                # this is where the calculations may need to go...\n",
    "                # this method could be public and yield results for each team\n",
    "        \n",
    "    def __add_edge_to_G(self, name1, name2):\n",
    "        edge = (name1, name2)\n",
    "        data = self.G.get_edge_data(*edge, default=None)\n",
    "        weight = 1 if data is None else data['weight'] + 1\n",
    "        self.G.add_edge(*edge, weight=weight)\n",
    "        \n",
    "class GraphGenerator:\n",
    "    def __init__(self, note_df, window_in_days, step_in_days):\n",
    "        note_df.sort_values('date', inplace=True)\n",
    "        self.note_df = note_df\n",
    "        self.DELTA = np.timedelta64(window_in_days, 'D')\n",
    "        step = np.timedelta64(step_in_days, 'D')\n",
    "        first_date = note_df['date'].iloc[0]\n",
    "        last_date = note_df['date'].iloc[-1]\n",
    "        self.date_range = np.arange(first_date, last_date - self.DELTA, step)\n",
    "        \n",
    "    def __iter__(self):\n",
    "        for start_date in self.date_range:\n",
    "            end_date = start_date + self.DELTA\n",
    "            notes_in_window = self.note_df.query('date >= @start_date & date <= @end_date')\n",
    "            graph = CollaborationNetworkGraph(notes_in_window)\n",
    "            yield graph"
   ]
  },
  {
   "cell_type": "code",
   "execution_count": 3,
   "metadata": {},
   "outputs": [
    {
     "name": "stdout",
     "output_type": "stream",
     "text": [
      "{'Myrtle George': 0.9444444444444444, 'Victoria Washington': 0.9444444444444444, 'Mercedes Arias': 0.9444444444444444, 'Albert Romero': 0.9444444444444444, 'Margie Meyer': 1.0, 'Evan Frazier': 0.9444444444444444, 'Jorge Garcia': 0.9444444444444444, 'Brad Palmer': 1.0, 'Neil Mitchell': 0.9444444444444444, 'Allan Murphy': 1.0}\n",
      "{'Neil Mitchell': 0.8571428571428571, 'Jorge Garcia': 0.8333333333333334, 'Evan Frazier': 0.9285714285714286, 'Brad Palmer': 0.8571428571428571, 'Mercedes Arias': 0.9285714285714286, 'Albert Romero': 0.8333333333333334, 'Myrtle George': 0.9285714285714286, 'Victoria Washington': 0.8333333333333334, 'Allan Murphy': 1.0, 'Margie Meyer': 0.9}\n",
      "{'Evan Frazier': 0.9285714285714286, 'Mercedes Arias': 0.9285714285714286, 'Jorge Garcia': 0.8333333333333334, 'Brad Palmer': 0.8571428571428571, 'Myrtle George': 0.9285714285714286, 'Victoria Washington': 0.8333333333333334, 'Allan Murphy': 1.0, 'Neil Mitchell': 0.8571428571428571, 'Margie Meyer': 0.9, 'Albert Romero': 0.8333333333333334}\n",
      "{'Myrtle George': 0.8928571428571429, 'Victoria Washington': 0.8055555555555556, 'Evan Frazier': 0.8928571428571429, 'Allan Murphy': 1.0, 'Neil Mitchell': 0.8571428571428571, 'Brad Palmer': 0.8, 'Margie Meyer': 0.8, 'Jorge Garcia': 0.8571428571428571, 'Mercedes Arias': 0.8928571428571429, 'Albert Romero': 0.8055555555555556}\n",
      "{'Evan Frazier': 0.8928571428571429, 'Allan Murphy': 1.0, 'Victoria Washington': 0.8333333333333334, 'Myrtle George': 0.8928571428571429, 'Neil Mitchell': 0.8928571428571429, 'Brad Palmer': 0.8666666666666667, 'Margie Meyer': 0.8666666666666667, 'Jorge Garcia': 0.8928571428571429, 'Mercedes Arias': 0.8333333333333334, 'Albert Romero': 0.8333333333333334}\n",
      "{'Myrtle George': 0.9642857142857143, 'Brad Palmer': 0.9285714285714286, 'Margie Meyer': 1.0, 'Neil Mitchell': 0.8888888888888888, 'Jorge Garcia': 0.8888888888888888, 'Evan Frazier': 0.9642857142857143, 'Mercedes Arias': 0.8888888888888888, 'Albert Romero': 0.8888888888888888, 'Allan Murphy': 1.0, 'Victoria Washington': 0.8888888888888888}\n",
      "{'Myrtle George': 0.9642857142857143, 'Brad Palmer': 0.9285714285714286, 'Margie Meyer': 1.0, 'Neil Mitchell': 0.8888888888888888, 'Jorge Garcia': 0.8888888888888888, 'Evan Frazier': 0.9642857142857143, 'Mercedes Arias': 0.8888888888888888, 'Albert Romero': 0.8888888888888888, 'Allan Murphy': 1.0, 'Victoria Washington': 0.8888888888888888}\n",
      "{'Albert Romero': 0.8888888888888888, 'Jorge Garcia': 0.8888888888888888, 'Allan Murphy': 1.0, 'Victoria Washington': 0.8888888888888888, 'Mercedes Arias': 0.8888888888888888, 'Myrtle George': 0.9642857142857143, 'Neil Mitchell': 0.8888888888888888, 'Margie Meyer': 1.0, 'Brad Palmer': 0.9285714285714286, 'Evan Frazier': 0.9642857142857143}\n",
      "{'Margie Meyer': 0.9333333333333333, 'Victoria Washington': 0.8571428571428571, 'Allan Murphy': 0.8666666666666667, 'Jorge Garcia': 0.8571428571428571, 'Neil Mitchell': 0.7777777777777778, 'Mercedes Arias': 0.8214285714285714, 'Albert Romero': 0.7777777777777778, 'Myrtle George': 0.8666666666666667, 'Brad Palmer': 0.8214285714285714, 'Evan Frazier': 0.8214285714285714}\n",
      "{'Albert Romero': 0.7777777777777778, 'Myrtle George': 0.8666666666666667, 'Margie Meyer': 0.9333333333333333, 'Brad Palmer': 0.8214285714285714, 'Victoria Washington': 0.8571428571428571, 'Neil Mitchell': 0.7777777777777778, 'Evan Frazier': 0.8214285714285714, 'Jorge Garcia': 0.8571428571428571, 'Allan Murphy': 0.8666666666666667, 'Mercedes Arias': 0.8214285714285714}\n",
      "{'Jorge Garcia': 0.8666666666666667, 'Neil Mitchell': 0.75, 'Allan Murphy': 0.8, 'Albert Romero': 0.6944444444444444, 'Evan Frazier': 0.7619047619047619, 'Mercedes Arias': 0.75, 'Brad Palmer': 0.7142857142857143, 'Myrtle George': 0.9, 'Victoria Washington': 0.9, 'Margie Meyer': 0.8666666666666667}\n",
      "{'Evan Frazier': 0.8333333333333334, 'Brad Palmer': 0.8333333333333334, 'Myrtle George': 1.0, 'Neil Mitchell': 0.8333333333333334, 'Victoria Washington': 1.0, 'Mercedes Arias': 0.9285714285714286, 'Albert Romero': 0.8333333333333334, 'Allan Murphy': 0.9047619047619048, 'Margie Meyer': 1.0, 'Jorge Garcia': 0.9285714285714286}\n",
      "{'Victoria Washington': 1.0, 'Mercedes Arias': 0.9285714285714286, 'Brad Palmer': 0.8611111111111112, 'Evan Frazier': 0.8611111111111112, 'Neil Mitchell': 0.8611111111111112, 'Albert Romero': 0.8611111111111112, 'Allan Murphy': 0.9047619047619048, 'Myrtle George': 0.9333333333333333, 'Margie Meyer': 0.8928571428571429, 'Jorge Garcia': 0.9285714285714286}\n",
      "{'Neil Mitchell': 0.8888888888888888, 'Albert Romero': 0.8888888888888888, 'Evan Frazier': 0.8888888888888888, 'Allan Murphy': 0.9285714285714286, 'Mercedes Arias': 0.9642857142857143, 'Myrtle George': 1.0, 'Margie Meyer': 0.8888888888888888, 'Victoria Washington': 1.0, 'Jorge Garcia': 0.9642857142857143, 'Brad Palmer': 0.8888888888888888}\n",
      "{'Neil Mitchell': 0.9166666666666666, 'Albert Romero': 0.9166666666666666, 'Evan Frazier': 0.9166666666666666, 'Allan Murphy': 0.9642857142857143, 'Mercedes Arias': 0.9166666666666666, 'Myrtle George': 1.0, 'Margie Meyer': 0.9166666666666666, 'Victoria Washington': 1.0, 'Jorge Garcia': 0.9642857142857143, 'Brad Palmer': 0.9166666666666666}\n",
      "{'Mercedes Arias': 0.8571428571428571, 'Evan Frazier': 0.9047619047619048, 'Albert Romero': 0.8055555555555556, 'Margie Meyer': 0.8055555555555556, 'Victoria Washington': 0.9523809523809523, 'Jorge Garcia': 0.8928571428571429, 'Brad Palmer': 0.8055555555555556, 'Neil Mitchell': 0.8214285714285714, 'Myrtle George': 1.0, 'Allan Murphy': 0.9333333333333333}\n",
      "{'Mercedes Arias': 0.9523809523809523, 'Margie Meyer': 0.8333333333333334, 'Victoria Washington': 0.8928571428571429, 'Jorge Garcia': 0.8571428571428571, 'Albert Romero': 0.8333333333333334, 'Evan Frazier': 0.8571428571428571, 'Brad Palmer': 0.8333333333333334, 'Neil Mitchell': 0.8571428571428571, 'Myrtle George': 0.9047619047619048, 'Allan Murphy': 0.9333333333333333}\n",
      "{'Victoria Washington': 0.9047619047619048, 'Evan Frazier': 0.8571428571428571, 'Brad Palmer': 0.8055555555555556, 'Margie Meyer': 0.8055555555555556, 'Mercedes Arias': 0.9333333333333333, 'Jorge Garcia': 0.8214285714285714, 'Albert Romero': 0.8055555555555556, 'Neil Mitchell': 0.8214285714285714, 'Myrtle George': 0.8571428571428571, 'Allan Murphy': 0.9333333333333333}\n",
      "{'Evan Frazier': 0.8928571428571429, 'Victoria Washington': 0.9523809523809523, 'Myrtle George': 0.8571428571428571, 'Albert Romero': 0.8055555555555556, 'Brad Palmer': 0.9047619047619048, 'Neil Mitchell': 0.8055555555555556, 'Allan Murphy': 0.9333333333333333, 'Jorge Garcia': 0.8055555555555556, 'Mercedes Arias': 1.0, 'Margie Meyer': 0.8214285714285714}\n",
      "{'Evan Frazier': 0.8928571428571429, 'Victoria Washington': 0.9523809523809523, 'Myrtle George': 0.8571428571428571, 'Albert Romero': 0.8055555555555556, 'Brad Palmer': 0.9047619047619048, 'Neil Mitchell': 0.8055555555555556, 'Allan Murphy': 0.9333333333333333, 'Jorge Garcia': 0.8055555555555556, 'Mercedes Arias': 1.0, 'Margie Meyer': 0.8214285714285714}\n",
      "{'Neil Mitchell': 0.8055555555555556, 'Albert Romero': 0.8055555555555556, 'Myrtle George': 0.8571428571428571, 'Allan Murphy': 0.9333333333333333, 'Jorge Garcia': 0.8055555555555556, 'Mercedes Arias': 1.0, 'Evan Frazier': 0.8928571428571429, 'Brad Palmer': 0.9047619047619048, 'Margie Meyer': 0.8214285714285714, 'Victoria Washington': 0.9523809523809523}\n",
      "{'Neil Mitchell': 0.9166666666666666, 'Albert Romero': 0.9166666666666666, 'Myrtle George': 0.9285714285714286, 'Allan Murphy': 0.9285714285714286, 'Jorge Garcia': 0.9166666666666666, 'Mercedes Arias': 0.9285714285714286, 'Evan Frazier': 0.9285714285714286, 'Brad Palmer': 0.9285714285714286, 'Margie Meyer': 0.9285714285714286, 'Victoria Washington': 0.9166666666666666}\n",
      "{'Allan Murphy': 1.0, 'Neil Mitchell': 0.9722222222222222, 'Jorge Garcia': 0.9722222222222222, 'Mercedes Arias': 0.9722222222222222, 'Evan Frazier': 0.9722222222222222, 'Brad Palmer': 0.9722222222222222, 'Margie Meyer': 0.9722222222222222, 'Victoria Washington': 0.9722222222222222, 'Albert Romero': 0.9722222222222222, 'Myrtle George': 1.0}\n",
      "{'Jorge Garcia': 0.9722222222222222, 'Mercedes Arias': 0.9722222222222222, 'Neil Mitchell': 0.9722222222222222, 'Evan Frazier': 0.9722222222222222, 'Allan Murphy': 1.0, 'Brad Palmer': 0.9722222222222222, 'Margie Meyer': 0.9722222222222222, 'Victoria Washington': 0.9722222222222222, 'Albert Romero': 0.9722222222222222, 'Myrtle George': 1.0}\n",
      "{'Jorge Garcia': 0.9642857142857143, 'Allan Murphy': 0.9642857142857143, 'Myrtle George': 0.9642857142857143, 'Margie Meyer': 0.9444444444444444, 'Albert Romero': 0.9444444444444444, 'Evan Frazier': 0.9444444444444444, 'Mercedes Arias': 0.9444444444444444, 'Neil Mitchell': 0.9444444444444444, 'Victoria Washington': 0.9642857142857143, 'Brad Palmer': 0.9444444444444444}\n",
      "{'Allan Murphy': 1.0, 'Albert Romero': 0.9166666666666666, 'Margie Meyer': 0.9642857142857143, 'Evan Frazier': 0.9166666666666666, 'Mercedes Arias': 0.9166666666666666, 'Myrtle George': 1.0, 'Neil Mitchell': 0.9166666666666666, 'Victoria Washington': 0.9166666666666666, 'Brad Palmer': 0.9166666666666666, 'Jorge Garcia': 0.9642857142857143}\n",
      "{'Evan Frazier': 0.8611111111111112, 'Albert Romero': 0.9642857142857143, 'Mercedes Arias': 0.8611111111111112, 'Margie Meyer': 1.0, 'Myrtle George': 1.0, 'Neil Mitchell': 0.8611111111111112, 'Victoria Washington': 0.8611111111111112, 'Brad Palmer': 0.8611111111111112, 'Jorge Garcia': 0.9642857142857143, 'Allan Murphy': 1.0}\n",
      "{'Neil Mitchell': 0.8611111111111112, 'Victoria Washington': 0.8611111111111112, 'Margie Meyer': 1.0, 'Albert Romero': 0.9642857142857143, 'Myrtle George': 1.0, 'Brad Palmer': 0.8611111111111112, 'Evan Frazier': 0.8611111111111112, 'Jorge Garcia': 0.9642857142857143, 'Allan Murphy': 1.0, 'Mercedes Arias': 0.8611111111111112}\n",
      "{'Albert Romero': 0.8928571428571429, 'Victoria Washington': 0.8928571428571429, 'Myrtle George': 1.0, 'Brad Palmer': 0.8055555555555556, 'Evan Frazier': 0.8055555555555556, 'Margie Meyer': 1.0, 'Jorge Garcia': 0.8928571428571429, 'Neil Mitchell': 0.8928571428571429, 'Allan Murphy': 1.0, 'Mercedes Arias': 0.8055555555555556}\n",
      "{'Neil Mitchell': 0.9285714285714286, 'Myrtle George': 0.9523809523809523, 'Jorge Garcia': 0.9523809523809523, 'Evan Frazier': 0.8055555555555556, 'Victoria Washington': 0.9285714285714286, 'Albert Romero': 0.8055555555555556, 'Brad Palmer': 0.8214285714285714, 'Allan Murphy': 0.9523809523809523, 'Mercedes Arias': 0.8055555555555556, 'Margie Meyer': 1.0}\n",
      "{'Neil Mitchell': 0.9285714285714286, 'Myrtle George': 0.9523809523809523, 'Jorge Garcia': 0.9523809523809523, 'Evan Frazier': 0.8055555555555556, 'Victoria Washington': 0.9285714285714286, 'Albert Romero': 0.8055555555555556, 'Brad Palmer': 0.8214285714285714, 'Allan Murphy': 0.9523809523809523, 'Mercedes Arias': 0.8055555555555556, 'Margie Meyer': 1.0}\n",
      "{'Myrtle George': 0.8571428571428571, 'Evan Frazier': 0.8611111111111112, 'Neil Mitchell': 0.8611111111111112, 'Jorge Garcia': 0.9523809523809523, 'Allan Murphy': 0.9523809523809523, 'Victoria Washington': 0.9285714285714286, 'Brad Palmer': 0.8571428571428571, 'Mercedes Arias': 0.8611111111111112, 'Albert Romero': 0.8611111111111112, 'Margie Meyer': 0.9333333333333333}\n",
      "{'Myrtle George': 0.8571428571428571, 'Neil Mitchell': 0.8611111111111112, 'Allan Murphy': 0.9523809523809523, 'Victoria Washington': 0.9285714285714286, 'Brad Palmer': 0.8571428571428571, 'Mercedes Arias': 0.8611111111111112, 'Jorge Garcia': 0.9523809523809523, 'Albert Romero': 0.8611111111111112, 'Margie Meyer': 0.9333333333333333, 'Evan Frazier': 0.8611111111111112}\n",
      "{'Myrtle George': 0.8571428571428571, 'Neil Mitchell': 0.8611111111111112, 'Allan Murphy': 0.9523809523809523, 'Victoria Washington': 0.9285714285714286, 'Brad Palmer': 0.8571428571428571, 'Mercedes Arias': 0.8611111111111112, 'Jorge Garcia': 0.9523809523809523, 'Albert Romero': 0.8611111111111112, 'Margie Meyer': 0.9333333333333333, 'Evan Frazier': 0.8611111111111112}\n",
      "{'Jorge Garcia': 0.9523809523809523, 'Mercedes Arias': 0.8333333333333334, 'Albert Romero': 0.8333333333333334, 'Myrtle George': 0.8214285714285714, 'Brad Palmer': 0.8214285714285714, 'Margie Meyer': 0.9333333333333333, 'Allan Murphy': 0.9333333333333333, 'Evan Frazier': 0.8333333333333334, 'Victoria Washington': 0.9523809523809523, 'Neil Mitchell': 0.8333333333333334}\n",
      "{'Victoria Washington': 0.9523809523809523, 'Mercedes Arias': 0.8611111111111112, 'Neil Mitchell': 0.8611111111111112, 'Albert Romero': 0.8611111111111112, 'Brad Palmer': 0.8571428571428571, 'Jorge Garcia': 0.9285714285714286, 'Evan Frazier': 0.8611111111111112, 'Margie Meyer': 0.9523809523809523, 'Myrtle George': 0.8571428571428571, 'Allan Murphy': 0.9333333333333333}\n",
      "{'Evan Frazier': 0.8611111111111112, 'Brad Palmer': 0.9047619047619048, 'Margie Meyer': 0.8928571428571429, 'Albert Romero': 0.8611111111111112, 'Mercedes Arias': 0.8928571428571429, 'Myrtle George': 0.8928571428571429, 'Victoria Washington': 0.8571428571428571, 'Jorge Garcia': 0.9047619047619048, 'Neil Mitchell': 0.8611111111111112, 'Allan Murphy': 0.8928571428571429}\n",
      "{'Evan Frazier': 0.8333333333333334, 'Victoria Washington': 0.8571428571428571, 'Jorge Garcia': 0.9047619047619048, 'Albert Romero': 0.8333333333333334, 'Myrtle George': 0.8928571428571429, 'Neil Mitchell': 0.8333333333333334, 'Mercedes Arias': 0.8571428571428571, 'Brad Palmer': 0.9333333333333333, 'Allan Murphy': 0.8571428571428571, 'Margie Meyer': 0.9523809523809523}\n"
     ]
    }
   ],
   "source": [
    "note_df = pd.read_csv('./data/notes.csv', parse_dates=[2])\n",
    "\n",
    "WINDOW = 90\n",
    "STEP = 7\n",
    "\n",
    "get_graphs = GraphGenerator(note_df, WINDOW, STEP)\n",
    "    \n",
    "for graph in get_graphs:\n",
    "    clust_coefficients = nx.clustering(graph.G)\n",
    "    print(clust_coefficients)\n",
    "    "
   ]
  },
  {
   "cell_type": "code",
   "execution_count": null,
   "metadata": {},
   "outputs": [],
   "source": []
  }
 ],
 "metadata": {
  "kernelspec": {
   "display_name": "Python 3",
   "language": "python",
   "name": "python3"
  },
  "language_info": {
   "codemirror_mode": {
    "name": "ipython",
    "version": 3
   },
   "file_extension": ".py",
   "mimetype": "text/x-python",
   "name": "python",
   "nbconvert_exporter": "python",
   "pygments_lexer": "ipython3",
   "version": "3.8.6"
  }
 },
 "nbformat": 4,
 "nbformat_minor": 4
}
