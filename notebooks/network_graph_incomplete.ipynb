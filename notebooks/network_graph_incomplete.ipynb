{
 "cells": [
  {
   "cell_type": "markdown",
   "metadata": {},
   "source": [
    "## Define classes to organize network creation logic\n",
    "One collaboration graph is built for the whole 90 day window, so this may need to be refactored to do the coefficient calculations per team per day."
   ]
  },
  {
   "cell_type": "code",
   "execution_count": 7,
   "metadata": {},
   "outputs": [],
   "source": [
    "import random\n",
    "from datetime import datetime, date, timedelta\n",
    "from itertools import chain\n",
    "import pandas as pd\n",
    "import networkx as nx\n",
    "from itertools import combinations  \n",
    "import numpy as np\n",
    "import time\n",
    "\n",
    "class CollaborationNetworkGraph:\n",
    "    def __init__(self, note_df, notes_for_care_date):\n",
    "        \"\"\"notes_df is assumed to be sorted by date\"\"\"\n",
    "        self.note_df = note_df\n",
    "        self.notes_for_care_date = notes_for_care_date\n",
    "        self.G = nx.Graph() # this will not be used\n",
    "        self.unique_dates = note_df.date.unique()\n",
    "        self.__create_graph()\n",
    "        \n",
    "    def __create_graph(self):\n",
    "        discharge_ids_for_care_date = self.notes_for_care_date.discharge_id.unique()\n",
    "        care_list = []\n",
    "        for discharge_id in discharge_ids_for_care_date:\n",
    "                drs_for_discharge_id = self.notes_for_care_date.query('discharge_id == @discharge_id').dr.unique()\n",
    "                df = pd.DataFrame(list(combinations(drs_for_discharge_id, 2)), columns=['DOC_1', 'DOC_2'])\n",
    "                df[\"Edge\"] = df[\"DOC_1\"] + df[\"DOC_2\"]\n",
    "                df[\"discharge_id\"] = discharge_id\n",
    "                care_list.append(df)\n",
    "        print(care_list.info())\n",
    "        \n",
    "        discharge_ids_for_experience_window = self.note_df.discharge_id.unique()\n",
    "        experience_list = []\n",
    "        for discharge_id in self.note_df:\n",
    "                drs_for_discharge_id = self.note_df.query('discharge_id == @discharge_id').dr.unique()\n",
    "                df = pd.DataFrame(list(combinations(drs_for_discharge_id, 2)), columns=['DOC_1', 'DOC_2'])\n",
    "                df[\"Edge\"] = df[\"DOC_1\"] + df[\"DOC_2\"]\n",
    "                df[\"discharge_id\"] = discharge_id\n",
    "                experience_list.append(df)\n",
    "        print(experience_list)\n",
    "        \n",
    "        care_edge_list = care_list[\"Edge\"].tolist()  ###Create list of edges for FirstRow\n",
    "        experience_team_edge_rows = experience_list[\"Edge\"].isin(care_edge_list)  ##Subsetting experience row boolean from the sample period\n",
    "        filtered_experience_list = experience_list[experience_team_edge_rows]\n",
    "        print(filtered_experience_list)\n",
    "        \n",
    "        \n",
    "#         for note_date in self.unique_dates[:-1]:\n",
    "#             notes_for_date = self.note_df.query('date == @note_date')\n",
    "#             discharge_ids_for_date = notes_for_date.discharge_id.unique()\n",
    "#             for discharge_id in discharge_ids_for_date:\n",
    "#                 drs_for_discharge_id = notes_for_date.query('discharge_id == @discharge_id').dr.unique()\n",
    "#                 for comb in list(combinations(drs_for_discharge_id, 2)): self.__add_edge_to_G(*comb)\n",
    "                # this is where the calculations may need to go...\n",
    "                # this method could be public and yield results for each team\n",
    "        \n",
    "    def __add_edge_to_G(self, name1, name2):\n",
    "        edge = (name1, name2)\n",
    "        data = self.G.get_edge_data(*edge, default=None)\n",
    "        weight = 1 if data is None else data['weight'] + 1\n",
    "        self.G.add_edge(*edge, weight=weight)\n",
    "        \n",
    "class GraphGenerator:\n",
    "    def __init__(self, note_df, window_in_days, step_in_days):\n",
    "        note_df.sort_values('date', inplace=True)\n",
    "        self.note_df = note_df\n",
    "        self.DELTA = np.timedelta64(window_in_days, 'D')\n",
    "        step = np.timedelta64(step_in_days, 'D')\n",
    "        first_date = note_df['date'].iloc[0]\n",
    "        last_date = note_df['date'].iloc[-1]\n",
    "        self.date_range = np.arange(first_date, last_date - self.DELTA, step)\n",
    "        \n",
    "    def __iter__(self):\n",
    "        for start_date in self.date_range:\n",
    "            end_date = start_date + self.DELTA\n",
    "            care_date = end_date + np.timedelta64(1, 'D')\n",
    "            notes_in_window = self.note_df.query('date >= @start_date & date <= @end_date')\n",
    "            notes_for_care_date = self.note_df.query('date == @care_date')\n",
    "            graph = CollaborationNetworkGraph(notes_in_window, notes_for_care_date)\n",
    "            yield graph"
   ]
  },
  {
   "cell_type": "code",
   "execution_count": 8,
   "metadata": {},
   "outputs": [
    {
     "ename": "AttributeError",
     "evalue": "'list' object has no attribute 'info'",
     "output_type": "error",
     "traceback": [
      "\u001b[0;31m---------------------------------------------------------------------------\u001b[0m",
      "\u001b[0;31mAttributeError\u001b[0m                            Traceback (most recent call last)",
      "\u001b[0;32m<ipython-input-8-71cc539b204e>\u001b[0m in \u001b[0;36m<module>\u001b[0;34m\u001b[0m\n\u001b[1;32m      6\u001b[0m \u001b[0mget_graphs\u001b[0m \u001b[0;34m=\u001b[0m \u001b[0mGraphGenerator\u001b[0m\u001b[0;34m(\u001b[0m\u001b[0mnote_df\u001b[0m\u001b[0;34m,\u001b[0m \u001b[0mWINDOW\u001b[0m\u001b[0;34m,\u001b[0m \u001b[0mSTEP\u001b[0m\u001b[0;34m)\u001b[0m\u001b[0;34m\u001b[0m\u001b[0;34m\u001b[0m\u001b[0m\n\u001b[1;32m      7\u001b[0m \u001b[0;34m\u001b[0m\u001b[0m\n\u001b[0;32m----> 8\u001b[0;31m \u001b[0;32mfor\u001b[0m \u001b[0mgraph\u001b[0m \u001b[0;32min\u001b[0m \u001b[0mget_graphs\u001b[0m\u001b[0;34m:\u001b[0m\u001b[0;34m\u001b[0m\u001b[0;34m\u001b[0m\u001b[0m\n\u001b[0m\u001b[1;32m      9\u001b[0m     \u001b[0;32mpass\u001b[0m\u001b[0;34m\u001b[0m\u001b[0;34m\u001b[0m\u001b[0m\n\u001b[1;32m     10\u001b[0m \u001b[0;31m#     clust_coefficients = nx.clustering(graph.G)\u001b[0m\u001b[0;34m\u001b[0m\u001b[0;34m\u001b[0m\u001b[0;34m\u001b[0m\u001b[0m\n",
      "\u001b[0;32m<ipython-input-7-24c0b7a7e7c9>\u001b[0m in \u001b[0;36m__iter__\u001b[0;34m(self)\u001b[0m\n\u001b[1;32m     75\u001b[0m             \u001b[0mnotes_in_window\u001b[0m \u001b[0;34m=\u001b[0m \u001b[0mself\u001b[0m\u001b[0;34m.\u001b[0m\u001b[0mnote_df\u001b[0m\u001b[0;34m.\u001b[0m\u001b[0mquery\u001b[0m\u001b[0;34m(\u001b[0m\u001b[0;34m'date >= @start_date & date <= @end_date'\u001b[0m\u001b[0;34m)\u001b[0m\u001b[0;34m\u001b[0m\u001b[0;34m\u001b[0m\u001b[0m\n\u001b[1;32m     76\u001b[0m             \u001b[0mnotes_for_care_date\u001b[0m \u001b[0;34m=\u001b[0m \u001b[0mself\u001b[0m\u001b[0;34m.\u001b[0m\u001b[0mnote_df\u001b[0m\u001b[0;34m.\u001b[0m\u001b[0mquery\u001b[0m\u001b[0;34m(\u001b[0m\u001b[0;34m'date == @care_date'\u001b[0m\u001b[0;34m)\u001b[0m\u001b[0;34m\u001b[0m\u001b[0;34m\u001b[0m\u001b[0m\n\u001b[0;32m---> 77\u001b[0;31m             \u001b[0mgraph\u001b[0m \u001b[0;34m=\u001b[0m \u001b[0mCollaborationNetworkGraph\u001b[0m\u001b[0;34m(\u001b[0m\u001b[0mnotes_in_window\u001b[0m\u001b[0;34m,\u001b[0m \u001b[0mnotes_for_care_date\u001b[0m\u001b[0;34m)\u001b[0m\u001b[0;34m\u001b[0m\u001b[0;34m\u001b[0m\u001b[0m\n\u001b[0m\u001b[1;32m     78\u001b[0m             \u001b[0;32myield\u001b[0m \u001b[0mgraph\u001b[0m\u001b[0;34m\u001b[0m\u001b[0;34m\u001b[0m\u001b[0m\n",
      "\u001b[0;32m<ipython-input-7-24c0b7a7e7c9>\u001b[0m in \u001b[0;36m__init__\u001b[0;34m(self, note_df, notes_for_care_date)\u001b[0m\n\u001b[1;32m     15\u001b[0m         \u001b[0mself\u001b[0m\u001b[0;34m.\u001b[0m\u001b[0mG\u001b[0m \u001b[0;34m=\u001b[0m \u001b[0mnx\u001b[0m\u001b[0;34m.\u001b[0m\u001b[0mGraph\u001b[0m\u001b[0;34m(\u001b[0m\u001b[0;34m)\u001b[0m \u001b[0;31m# this will not be used\u001b[0m\u001b[0;34m\u001b[0m\u001b[0;34m\u001b[0m\u001b[0m\n\u001b[1;32m     16\u001b[0m         \u001b[0mself\u001b[0m\u001b[0;34m.\u001b[0m\u001b[0munique_dates\u001b[0m \u001b[0;34m=\u001b[0m \u001b[0mnote_df\u001b[0m\u001b[0;34m.\u001b[0m\u001b[0mdate\u001b[0m\u001b[0;34m.\u001b[0m\u001b[0munique\u001b[0m\u001b[0;34m(\u001b[0m\u001b[0;34m)\u001b[0m\u001b[0;34m\u001b[0m\u001b[0;34m\u001b[0m\u001b[0m\n\u001b[0;32m---> 17\u001b[0;31m         \u001b[0mself\u001b[0m\u001b[0;34m.\u001b[0m\u001b[0m__create_graph\u001b[0m\u001b[0;34m(\u001b[0m\u001b[0;34m)\u001b[0m\u001b[0;34m\u001b[0m\u001b[0;34m\u001b[0m\u001b[0m\n\u001b[0m\u001b[1;32m     18\u001b[0m \u001b[0;34m\u001b[0m\u001b[0m\n\u001b[1;32m     19\u001b[0m     \u001b[0;32mdef\u001b[0m \u001b[0m__create_graph\u001b[0m\u001b[0;34m(\u001b[0m\u001b[0mself\u001b[0m\u001b[0;34m)\u001b[0m\u001b[0;34m:\u001b[0m\u001b[0;34m\u001b[0m\u001b[0;34m\u001b[0m\u001b[0m\n",
      "\u001b[0;32m<ipython-input-7-24c0b7a7e7c9>\u001b[0m in \u001b[0;36m__create_graph\u001b[0;34m(self)\u001b[0m\n\u001b[1;32m     26\u001b[0m                 \u001b[0mdf\u001b[0m\u001b[0;34m[\u001b[0m\u001b[0;34m\"discharge_id\"\u001b[0m\u001b[0;34m]\u001b[0m \u001b[0;34m=\u001b[0m \u001b[0mdischarge_id\u001b[0m\u001b[0;34m\u001b[0m\u001b[0;34m\u001b[0m\u001b[0m\n\u001b[1;32m     27\u001b[0m                 \u001b[0mcare_list\u001b[0m\u001b[0;34m.\u001b[0m\u001b[0mappend\u001b[0m\u001b[0;34m(\u001b[0m\u001b[0mdf\u001b[0m\u001b[0;34m)\u001b[0m\u001b[0;34m\u001b[0m\u001b[0;34m\u001b[0m\u001b[0m\n\u001b[0;32m---> 28\u001b[0;31m         \u001b[0mprint\u001b[0m\u001b[0;34m(\u001b[0m\u001b[0mcare_list\u001b[0m\u001b[0;34m.\u001b[0m\u001b[0minfo\u001b[0m\u001b[0;34m(\u001b[0m\u001b[0;34m)\u001b[0m\u001b[0;34m)\u001b[0m\u001b[0;34m\u001b[0m\u001b[0;34m\u001b[0m\u001b[0m\n\u001b[0m\u001b[1;32m     29\u001b[0m \u001b[0;34m\u001b[0m\u001b[0m\n\u001b[1;32m     30\u001b[0m         \u001b[0mdischarge_ids_for_experience_window\u001b[0m \u001b[0;34m=\u001b[0m \u001b[0mself\u001b[0m\u001b[0;34m.\u001b[0m\u001b[0mnote_df\u001b[0m\u001b[0;34m.\u001b[0m\u001b[0mdischarge_id\u001b[0m\u001b[0;34m.\u001b[0m\u001b[0munique\u001b[0m\u001b[0;34m(\u001b[0m\u001b[0;34m)\u001b[0m\u001b[0;34m\u001b[0m\u001b[0;34m\u001b[0m\u001b[0m\n",
      "\u001b[0;31mAttributeError\u001b[0m: 'list' object has no attribute 'info'"
     ]
    }
   ],
   "source": [
    "note_df = pd.read_csv('./data/notes.csv', parse_dates=[2])\n",
    "\n",
    "WINDOW = 90\n",
    "STEP = 1\n",
    "\n",
    "get_graphs = GraphGenerator(note_df, WINDOW, STEP)\n",
    "    \n",
    "for graph in get_graphs:\n",
    "    pass\n",
    "#     clust_coefficients = nx.clustering(graph.G)\n",
    "#     print(clust_coefficients)\n",
    "    "
   ]
  },
  {
   "cell_type": "code",
   "execution_count": 6,
   "metadata": {},
   "outputs": [
    {
     "name": "stdout",
     "output_type": "stream",
     "text": [
      "[1, 2]\n"
     ]
    }
   ],
   "source": [
    "l = [1,2,3]\n",
    "print(l[:-1])"
   ]
  }
 ],
 "metadata": {
  "kernelspec": {
   "display_name": "Python 3",
   "language": "python",
   "name": "python3"
  },
  "language_info": {
   "codemirror_mode": {
    "name": "ipython",
    "version": 3
   },
   "file_extension": ".py",
   "mimetype": "text/x-python",
   "name": "python",
   "nbconvert_exporter": "python",
   "pygments_lexer": "ipython3",
   "version": "3.8.6"
  }
 },
 "nbformat": 4,
 "nbformat_minor": 4
}
