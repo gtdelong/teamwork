{
 "cells": [
  {
   "cell_type": "code",
   "execution_count": 2,
   "metadata": {},
   "outputs": [],
   "source": [
    "import pandas as pd\n",
    "from teamwork import teamwork as tw"
   ]
  },
  {
   "cell_type": "code",
   "execution_count": 3,
   "metadata": {},
   "outputs": [],
   "source": [
    "test_df = pd.read_csv('../data/sample_notes.csv')"
   ]
  },
  {
   "cell_type": "code",
   "execution_count": 5,
   "metadata": {},
   "outputs": [],
   "source": [
    "test_df['date'] = pd.to_datetime(test_df['date'])\n",
    "test_df['arrive_date'] = pd.to_datetime(test_df['arrive_date'])"
   ]
  },
  {
   "cell_type": "code",
   "execution_count": 6,
   "metadata": {},
   "outputs": [
    {
     "name": "stdout",
     "output_type": "stream",
     "text": [
      "<class 'datetime.timedelta'>\n",
      "Preprocessing data...\n",
      "Building experience edge list...\n",
      "Building team edge list...\n"
     ]
    },
    {
     "name": "stderr",
     "output_type": "stream",
     "text": [
      "Building Edge Dictionary: 100%|██████████| 7/7 [00:00<00:00, 2646.73it/s]\n",
      "Building Team Dictionary: 100%|██████████| 6/6 [00:00<00:00, 5648.89it/s]\n",
      "100%|██████████| 1/1 [00:00<00:00, 387.21it/s]\n"
     ]
    }
   ],
   "source": [
    "corpus = tw.TeamworkCorpus(test_df)"
   ]
  },
  {
   "cell_type": "code",
   "execution_count": 14,
   "metadata": {},
   "outputs": [
    {
     "name": "stdout",
     "output_type": "stream",
     "text": [
      "Graph with 3 nodes and 3 edges\n"
     ]
    }
   ],
   "source": [
    "for visit_id, item in corpus.team_experience_dict.items():\n",
    "    print(item['graph'])"
   ]
  }
 ],
 "metadata": {
  "kernelspec": {
   "display_name": "tw-github",
   "language": "python",
   "name": "python3"
  },
  "language_info": {
   "codemirror_mode": {
    "name": "ipython",
    "version": 3
   },
   "file_extension": ".py",
   "mimetype": "text/x-python",
   "name": "python",
   "nbconvert_exporter": "python",
   "pygments_lexer": "ipython3",
   "version": "3.9.19"
  }
 },
 "nbformat": 4,
 "nbformat_minor": 2
}
