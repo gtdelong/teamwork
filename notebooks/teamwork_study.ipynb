{
 "cells": [
  {
   "cell_type": "markdown",
   "metadata": {},
   "source": [
    "# Teamwork study\n",
    "\n",
    "Here is where we could put an overview of what we're doing in this notebook"
   ]
  },
  {
   "cell_type": "markdown",
   "metadata": {},
   "source": [
    "## Import libraries"
   ]
  },
  {
   "cell_type": "code",
   "execution_count": 1,
   "metadata": {},
   "outputs": [],
   "source": [
    "from datetime import datetime, date, timedelta\n",
    "import pandas as pd\n",
    "import networkx as nx\n",
    "from itertools import combinations  \n",
    "import numpy as np\n",
    "import os\n",
    "import sys\n",
    "\n",
    "# This allows us to import from src and utils\n",
    "for dir in ['src','utils']: sys.path.append(os.path.join(os.getcwd(), '..', dir))\n",
    " \n",
    "from experience import ExperienceStudyRunner, CareDate, CareTeam\n",
    "from utils import get_careteam_data"
   ]
  },
  {
   "cell_type": "markdown",
   "metadata": {},
   "source": [
    "## Read in EHR data and create study runner object"
   ]
  },
  {
   "cell_type": "code",
   "execution_count": 2,
   "metadata": {},
   "outputs": [],
   "source": [
    "notes = pd.read_csv('../data/notes.csv', parse_dates=[2])\n",
    "\n",
    "WINDOW = 90\n",
    "STEP = 2\n",
    "\n",
    "get_care_dates = ExperienceStudyRunner(notes, WINDOW, STEP)"
   ]
  },
  {
   "cell_type": "markdown",
   "metadata": {},
   "source": [
    "## Create list, iterate through care dates and care teams, gather data for each care team in list"
   ]
  },
  {
   "cell_type": "code",
   "execution_count": 2,
   "metadata": {},
   "outputs": [],
   "source": [
    "data_list = []\n",
    "\n",
    "for care_date in get_care_dates:\n",
    "    for care_team in care_date:\n",
    "        careteam_data = get_careteam_data(care_team)\n",
    "        data_list.append(careteam_data)"
   ]
  },
  {
   "cell_type": "markdown",
   "metadata": {},
   "source": [
    "## Convert data into DataFrame for analysis"
   ]
  },
  {
   "cell_type": "code",
   "execution_count": 2,
   "metadata": {},
   "outputs": [
    {
     "name": "stdout",
     "output_type": "stream",
     "text": [
      "(80, 6)\n"
     ]
    }
   ],
   "source": [
    "experience_df = pd.DataFrame(data_list, columns=['discharge_id',\n",
    "        'avg_clust',\n",
    "        'cumulative_experience',\n",
    "        'avg_cumulative_experience',\n",
    "        'team_edge_size',\n",
    "        'team_size'])\n",
    "\n",
    "print(experience_df.shape)"
   ]
  },
  {
   "cell_type": "code",
   "execution_count": 3,
   "metadata": {},
   "outputs": [],
   "source": [
    "# should we do some sample analysis here using the data?"
   ]
  }
 ],
 "metadata": {
  "kernelspec": {
   "display_name": "Python 3",
   "language": "python",
   "name": "python3"
  },
  "language_info": {
   "codemirror_mode": {
    "name": "ipython",
    "version": 3
   },
   "file_extension": ".py",
   "mimetype": "text/x-python",
   "name": "python",
   "nbconvert_exporter": "python",
   "pygments_lexer": "ipython3",
   "version": "3.8.6"
  }
 },
 "nbformat": 4,
 "nbformat_minor": 4
}
