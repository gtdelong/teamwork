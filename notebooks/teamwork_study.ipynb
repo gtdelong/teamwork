{
 "cells": [
  {
   "cell_type": "markdown",
   "metadata": {},
   "source": [
    "# Teamwork study\n",
    "\n",
    "Here is where we could put an overview of what we're doing in this notebook"
   ]
  },
  {
   "cell_type": "markdown",
   "metadata": {},
   "source": [
    "## Import libraries"
   ]
  },
  {
   "cell_type": "code",
   "execution_count": 20,
   "metadata": {},
   "outputs": [],
   "source": [
    "from datetime import datetime, date, timedelta\n",
    "import pandas as pd\n",
    "import networkx as nx\n",
    "from itertools import combinations  \n",
    "import numpy as np\n",
    "import os\n",
    "import sys\n",
    "\n",
    "# This allows us to import from src and utils\n",
    "for dir in ['src','utils']: sys.path.append(os.path.join(os.getcwd(), '..', dir))\n",
    " \n",
    "from experience import ExperienceStudyRunner, CareDate, CareTeam\n",
    "from utils import columns, get_careteam_data"
   ]
  },
  {
   "cell_type": "markdown",
   "metadata": {},
   "source": [
    "## Read in EHR data and create study runner object\n",
    "\n",
    "The study runner is a generator object"
   ]
  },
  {
   "cell_type": "code",
   "execution_count": 25,
   "metadata": {},
   "outputs": [],
   "source": [
    "notes = pd.read_csv('../data/notes_w_disposition_large.csv', parse_dates=[2])\n",
    "\n",
    "WINDOW = 90\n",
    "STEP = 2\n",
    "\n",
    "get_care_dates = ExperienceStudyRunner(notes, WINDOW, STEP)"
   ]
  },
  {
   "cell_type": "markdown",
   "metadata": {},
   "source": [
    "## Gather data for each care team identified on each care date\n",
    "\n",
    "The `get_careteam_data` utility function uses the `care_team` network graph\n",
    "to calculate the cumulative experience and other metrics for the care team\n"
   ]
  },
  {
   "cell_type": "code",
   "execution_count": 26,
   "metadata": {},
   "outputs": [
    {
     "name": "stdout",
     "output_type": "stream",
     "text": [
      "Elapsed seconds: 9105.095341599954\n"
     ]
    }
   ],
   "source": [
    "from time import perf_counter\n",
    "\n",
    "t1_start = perf_counter()\n",
    "\n",
    "# data_list = [get_careteam_data(care_team) for care_date in get_care_dates for care_team in care_date]\n",
    "\n",
    "output_path = '../data/experience_large.csv'\n",
    "for care_date in get_care_dates:\n",
    "    care_date_list = [get_careteam_data(care_team) for care_team in care_date]\n",
    "    df = pd.DataFrame(data_list, columns=columns)\n",
    "    df.to_csv(output_path, mode='a', header=not os.path.exists(output_path))\n",
    "    \n",
    "t1_stop = perf_counter()\n",
    "print(f\"Elapsed seconds: {t1_stop - t1_start}\")"
   ]
  },
  {
   "cell_type": "code",
   "execution_count": null,
   "metadata": {},
   "outputs": [],
   "source": [
    "data_list = (get_careteam_data(care_team) for care_date in get_care_dates for care_team in care_date)\n"
   ]
  },
  {
   "cell_type": "markdown",
   "metadata": {},
   "source": [
    "## Convert data into DataFrame for analysis"
   ]
  },
  {
   "cell_type": "code",
   "execution_count": 32,
   "metadata": {},
   "outputs": [
    {
     "name": "stdout",
     "output_type": "stream",
     "text": [
      "Elapsed seconds: 9105.095341599954\n",
      "(51216, 7)\n",
      "(388, 7)\n",
      "(388, 13)\n",
      "   Unnamed: 0  discharge_id  avg_clust  cumulative_experience  \\\n",
      "0           0           454   0.561905                    5.0   \n",
      "1           1           476   0.833333                    3.0   \n",
      "2           2           451   0.527778                    7.0   \n",
      "3           3           416   0.000000                    2.0   \n",
      "4           4           169   0.833333                    2.0   \n",
      "\n",
      "   avg_cumulative_experience  team_edge_size  team_size   id          patient  \\\n",
      "0                   0.714286              12          7  454    Barry Stanley   \n",
      "1                   0.750000               5          4  476     Elmer Lawson   \n",
      "2                   1.166667              10          6  451      Clara Rojas   \n",
      "3                   0.500000               3          4  416   Taylor Morales   \n",
      "4                   0.500000               5          4  169  Clifford Hansen   \n",
      "\n",
      "  arrive_date discharge_date  disposition  age  \n",
      "0  2020-04-23     2020-04-25            0   74  \n",
      "1  2020-04-23     2020-04-25            0   71  \n",
      "2  2020-04-24     2020-04-29            0   73  \n",
      "3  2020-04-25     2020-05-01            0   71  \n",
      "4  2020-04-25     2020-04-30            0   75  \n"
     ]
    }
   ],
   "source": [
    "print(f\"Elapsed seconds: {t1_stop - t1_start}\")\n",
    "\n",
    "experience_df = pd.read_csv('../data/experience.csv')\n",
    "print(experience_df.shape)\n",
    "experience_df.drop_duplicates(inplace=True)\n",
    "print(experience_df.shape)\n",
    "# experience_df = pd.DataFrame(data_list, columns=columns)\n",
    "discharges_df = pd.read_csv('../data/discharges_w_disposition.csv')\n",
    "\n",
    "merged_df = experience_df.merge(discharges_df, left_on='discharge_id', right_on='id', copy=False)\n",
    "\n",
    "print(merged_df.shape)\n",
    "print(merged_df.head())\n",
    "\n"
   ]
  },
  {
   "cell_type": "markdown",
   "metadata": {},
   "source": [
    "## Analysis can be performed on the resulting DataFrame to study, e.g. the correlation between cumulative care team experience and patient outcomes "
   ]
  },
  {
   "cell_type": "code",
   "execution_count": 29,
   "metadata": {},
   "outputs": [
    {
     "data": {
      "text/html": [
       "<table class=\"simpletable\">\n",
       "<caption>Generalized Linear Model Regression Results</caption>\n",
       "<tr>\n",
       "  <th>Dep. Variable:</th>      <td>disposition</td>   <th>  No. Observations:  </th>  <td>   388</td> \n",
       "</tr>\n",
       "<tr>\n",
       "  <th>Model:</th>                  <td>GLM</td>       <th>  Df Residuals:      </th>  <td>   385</td> \n",
       "</tr>\n",
       "<tr>\n",
       "  <th>Model Family:</th>        <td>Binomial</td>     <th>  Df Model:          </th>  <td>     2</td> \n",
       "</tr>\n",
       "<tr>\n",
       "  <th>Link Function:</th>         <td>logit</td>      <th>  Scale:             </th> <td>  1.0000</td>\n",
       "</tr>\n",
       "<tr>\n",
       "  <th>Method:</th>                <td>IRLS</td>       <th>  Log-Likelihood:    </th> <td> -110.87</td>\n",
       "</tr>\n",
       "<tr>\n",
       "  <th>Date:</th>            <td>Mon, 25 Jan 2021</td> <th>  Deviance:          </th> <td>  221.74</td>\n",
       "</tr>\n",
       "<tr>\n",
       "  <th>Time:</th>                <td>03:07:15</td>     <th>  Pearson chi2:      </th>  <td>  388.</td> \n",
       "</tr>\n",
       "<tr>\n",
       "  <th>No. Iterations:</th>          <td>5</td>        <th>                     </th>     <td> </td>   \n",
       "</tr>\n",
       "<tr>\n",
       "  <th>Covariance Type:</th>     <td>nonrobust</td>    <th>                     </th>     <td> </td>   \n",
       "</tr>\n",
       "</table>\n",
       "<table class=\"simpletable\">\n",
       "<tr>\n",
       "      <td></td>         <th>coef</th>     <th>std err</th>      <th>z</th>      <th>P>|z|</th>  <th>[0.025</th>    <th>0.975]</th>  \n",
       "</tr>\n",
       "<tr>\n",
       "  <th>Intercept</th> <td>   -8.2942</td> <td>    3.073</td> <td>   -2.699</td> <td> 0.007</td> <td>  -14.317</td> <td>   -2.271</td>\n",
       "</tr>\n",
       "<tr>\n",
       "  <th>avg_clust</th> <td>   -0.0897</td> <td>    0.472</td> <td>   -0.190</td> <td> 0.849</td> <td>   -1.014</td> <td>    0.835</td>\n",
       "</tr>\n",
       "<tr>\n",
       "  <th>age</th>       <td>    0.0815</td> <td>    0.041</td> <td>    1.966</td> <td> 0.049</td> <td>    0.000</td> <td>    0.163</td>\n",
       "</tr>\n",
       "</table>"
      ],
      "text/plain": [
       "<class 'statsmodels.iolib.summary.Summary'>\n",
       "\"\"\"\n",
       "                 Generalized Linear Model Regression Results                  \n",
       "==============================================================================\n",
       "Dep. Variable:            disposition   No. Observations:                  388\n",
       "Model:                            GLM   Df Residuals:                      385\n",
       "Model Family:                Binomial   Df Model:                            2\n",
       "Link Function:                  logit   Scale:                          1.0000\n",
       "Method:                          IRLS   Log-Likelihood:                -110.87\n",
       "Date:                Mon, 25 Jan 2021   Deviance:                       221.74\n",
       "Time:                        03:07:15   Pearson chi2:                     388.\n",
       "No. Iterations:                     5                                         \n",
       "Covariance Type:            nonrobust                                         \n",
       "==============================================================================\n",
       "                 coef    std err          z      P>|z|      [0.025      0.975]\n",
       "------------------------------------------------------------------------------\n",
       "Intercept     -8.2942      3.073     -2.699      0.007     -14.317      -2.271\n",
       "avg_clust     -0.0897      0.472     -0.190      0.849      -1.014       0.835\n",
       "age            0.0815      0.041      1.966      0.049       0.000       0.163\n",
       "==============================================================================\n",
       "\"\"\""
      ]
     },
     "execution_count": 29,
     "metadata": {},
     "output_type": "execute_result"
    }
   ],
   "source": [
    "# %matplotlib inline\n",
    "import matplotlib.pyplot as plt\n",
    "import seaborn as sns\n",
    "# import pandas as pd\n",
    "import statsmodels.api as sm\n",
    "\n",
    "l = ['avg_clust', 'cumulative_experience', 'avg_cumulative_experience']\n",
    "\n",
    "# for var in l:\n",
    "\n",
    "model = sm.GLM.from_formula(f'disposition ~ {l[0]} + age', family = sm.families.Binomial(), data=merged_df)\n",
    "result = model.fit()\n",
    "result.summary() "
   ]
  },
  {
   "cell_type": "code",
   "execution_count": 30,
   "metadata": {},
   "outputs": [
    {
     "data": {
      "text/html": [
       "<table class=\"simpletable\">\n",
       "<caption>Generalized Linear Model Regression Results</caption>\n",
       "<tr>\n",
       "  <th>Dep. Variable:</th>      <td>disposition</td>   <th>  No. Observations:  </th>  <td>   388</td> \n",
       "</tr>\n",
       "<tr>\n",
       "  <th>Model:</th>                  <td>GLM</td>       <th>  Df Residuals:      </th>  <td>   385</td> \n",
       "</tr>\n",
       "<tr>\n",
       "  <th>Model Family:</th>        <td>Binomial</td>     <th>  Df Model:          </th>  <td>     2</td> \n",
       "</tr>\n",
       "<tr>\n",
       "  <th>Link Function:</th>         <td>logit</td>      <th>  Scale:             </th> <td>  1.0000</td>\n",
       "</tr>\n",
       "<tr>\n",
       "  <th>Method:</th>                <td>IRLS</td>       <th>  Log-Likelihood:    </th> <td> -109.06</td>\n",
       "</tr>\n",
       "<tr>\n",
       "  <th>Date:</th>            <td>Mon, 25 Jan 2021</td> <th>  Deviance:          </th> <td>  218.12</td>\n",
       "</tr>\n",
       "<tr>\n",
       "  <th>Time:</th>                <td>03:08:08</td>     <th>  Pearson chi2:      </th>  <td>  384.</td> \n",
       "</tr>\n",
       "<tr>\n",
       "  <th>No. Iterations:</th>          <td>6</td>        <th>                     </th>     <td> </td>   \n",
       "</tr>\n",
       "<tr>\n",
       "  <th>Covariance Type:</th>     <td>nonrobust</td>    <th>                     </th>     <td> </td>   \n",
       "</tr>\n",
       "</table>\n",
       "<table class=\"simpletable\">\n",
       "<tr>\n",
       "            <td></td>               <th>coef</th>     <th>std err</th>      <th>z</th>      <th>P>|z|</th>  <th>[0.025</th>    <th>0.975]</th>  \n",
       "</tr>\n",
       "<tr>\n",
       "  <th>Intercept</th>             <td>   -8.1931</td> <td>    3.117</td> <td>   -2.628</td> <td> 0.009</td> <td>  -14.303</td> <td>   -2.083</td>\n",
       "</tr>\n",
       "<tr>\n",
       "  <th>cumulative_experience</th> <td>   -0.0447</td> <td>    0.025</td> <td>   -1.765</td> <td> 0.078</td> <td>   -0.094</td> <td>    0.005</td>\n",
       "</tr>\n",
       "<tr>\n",
       "  <th>age</th>                   <td>    0.0839</td> <td>    0.042</td> <td>    1.991</td> <td> 0.046</td> <td>    0.001</td> <td>    0.167</td>\n",
       "</tr>\n",
       "</table>"
      ],
      "text/plain": [
       "<class 'statsmodels.iolib.summary.Summary'>\n",
       "\"\"\"\n",
       "                 Generalized Linear Model Regression Results                  \n",
       "==============================================================================\n",
       "Dep. Variable:            disposition   No. Observations:                  388\n",
       "Model:                            GLM   Df Residuals:                      385\n",
       "Model Family:                Binomial   Df Model:                            2\n",
       "Link Function:                  logit   Scale:                          1.0000\n",
       "Method:                          IRLS   Log-Likelihood:                -109.06\n",
       "Date:                Mon, 25 Jan 2021   Deviance:                       218.12\n",
       "Time:                        03:08:08   Pearson chi2:                     384.\n",
       "No. Iterations:                     6                                         \n",
       "Covariance Type:            nonrobust                                         \n",
       "=========================================================================================\n",
       "                            coef    std err          z      P>|z|      [0.025      0.975]\n",
       "-----------------------------------------------------------------------------------------\n",
       "Intercept                -8.1931      3.117     -2.628      0.009     -14.303      -2.083\n",
       "cumulative_experience    -0.0447      0.025     -1.765      0.078      -0.094       0.005\n",
       "age                       0.0839      0.042      1.991      0.046       0.001       0.167\n",
       "=========================================================================================\n",
       "\"\"\""
      ]
     },
     "execution_count": 30,
     "metadata": {},
     "output_type": "execute_result"
    }
   ],
   "source": [
    "model = sm.GLM.from_formula(f'disposition ~ {l[1]} + age', family = sm.families.Binomial(), data=merged_df)\n",
    "result = model.fit()\n",
    "result.summary() "
   ]
  },
  {
   "cell_type": "code",
   "execution_count": 31,
   "metadata": {},
   "outputs": [
    {
     "data": {
      "text/html": [
       "<table class=\"simpletable\">\n",
       "<caption>Generalized Linear Model Regression Results</caption>\n",
       "<tr>\n",
       "  <th>Dep. Variable:</th>      <td>disposition</td>   <th>  No. Observations:  </th>  <td>   388</td> \n",
       "</tr>\n",
       "<tr>\n",
       "  <th>Model:</th>                  <td>GLM</td>       <th>  Df Residuals:      </th>  <td>   385</td> \n",
       "</tr>\n",
       "<tr>\n",
       "  <th>Model Family:</th>        <td>Binomial</td>     <th>  Df Model:          </th>  <td>     2</td> \n",
       "</tr>\n",
       "<tr>\n",
       "  <th>Link Function:</th>         <td>logit</td>      <th>  Scale:             </th> <td>  1.0000</td>\n",
       "</tr>\n",
       "<tr>\n",
       "  <th>Method:</th>                <td>IRLS</td>       <th>  Log-Likelihood:    </th> <td> -109.69</td>\n",
       "</tr>\n",
       "<tr>\n",
       "  <th>Date:</th>            <td>Mon, 25 Jan 2021</td> <th>  Deviance:          </th> <td>  219.37</td>\n",
       "</tr>\n",
       "<tr>\n",
       "  <th>Time:</th>                <td>03:08:18</td>     <th>  Pearson chi2:      </th>  <td>  383.</td> \n",
       "</tr>\n",
       "<tr>\n",
       "  <th>No. Iterations:</th>          <td>6</td>        <th>                     </th>     <td> </td>   \n",
       "</tr>\n",
       "<tr>\n",
       "  <th>Covariance Type:</th>     <td>nonrobust</td>    <th>                     </th>     <td> </td>   \n",
       "</tr>\n",
       "</table>\n",
       "<table class=\"simpletable\">\n",
       "<tr>\n",
       "              <td></td>                 <th>coef</th>     <th>std err</th>      <th>z</th>      <th>P>|z|</th>  <th>[0.025</th>    <th>0.975]</th>  \n",
       "</tr>\n",
       "<tr>\n",
       "  <th>Intercept</th>                 <td>   -8.1604</td> <td>    3.104</td> <td>   -2.629</td> <td> 0.009</td> <td>  -14.244</td> <td>   -2.077</td>\n",
       "</tr>\n",
       "<tr>\n",
       "  <th>avg_cumulative_experience</th> <td>   -0.2820</td> <td>    0.188</td> <td>   -1.500</td> <td> 0.134</td> <td>   -0.650</td> <td>    0.086</td>\n",
       "</tr>\n",
       "<tr>\n",
       "  <th>age</th>                       <td>    0.0835</td> <td>    0.042</td> <td>    1.990</td> <td> 0.047</td> <td>    0.001</td> <td>    0.166</td>\n",
       "</tr>\n",
       "</table>"
      ],
      "text/plain": [
       "<class 'statsmodels.iolib.summary.Summary'>\n",
       "\"\"\"\n",
       "                 Generalized Linear Model Regression Results                  \n",
       "==============================================================================\n",
       "Dep. Variable:            disposition   No. Observations:                  388\n",
       "Model:                            GLM   Df Residuals:                      385\n",
       "Model Family:                Binomial   Df Model:                            2\n",
       "Link Function:                  logit   Scale:                          1.0000\n",
       "Method:                          IRLS   Log-Likelihood:                -109.69\n",
       "Date:                Mon, 25 Jan 2021   Deviance:                       219.37\n",
       "Time:                        03:08:18   Pearson chi2:                     383.\n",
       "No. Iterations:                     6                                         \n",
       "Covariance Type:            nonrobust                                         \n",
       "=============================================================================================\n",
       "                                coef    std err          z      P>|z|      [0.025      0.975]\n",
       "---------------------------------------------------------------------------------------------\n",
       "Intercept                    -8.1604      3.104     -2.629      0.009     -14.244      -2.077\n",
       "avg_cumulative_experience    -0.2820      0.188     -1.500      0.134      -0.650       0.086\n",
       "age                           0.0835      0.042      1.990      0.047       0.001       0.166\n",
       "=============================================================================================\n",
       "\"\"\""
      ]
     },
     "execution_count": 31,
     "metadata": {},
     "output_type": "execute_result"
    }
   ],
   "source": [
    "model = sm.GLM.from_formula(f'disposition ~ {l[2]} + age', family = sm.families.Binomial(), data=merged_df)\n",
    "result = model.fit()\n",
    "result.summary() \n",
    "    "
   ]
  }
 ],
 "metadata": {
  "kernelspec": {
   "display_name": "Python 3",
   "language": "python",
   "name": "python3"
  },
  "language_info": {
   "codemirror_mode": {
    "name": "ipython",
    "version": 3
   },
   "file_extension": ".py",
   "mimetype": "text/x-python",
   "name": "python",
   "nbconvert_exporter": "python",
   "pygments_lexer": "ipython3",
   "version": "3.8.6"
  }
 },
 "nbformat": 4,
 "nbformat_minor": 4
}
