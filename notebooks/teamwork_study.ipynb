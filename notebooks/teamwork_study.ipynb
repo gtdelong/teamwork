{
 "cells": [
  {
   "cell_type": "markdown",
   "metadata": {},
   "source": [
    "# Teamwork study\n",
    "\n",
    "In this notebook, we use the `teamwork` library to represent a care teams' collaborative experience as a network graph. We can then leverage the `networkx` library to calculate the average clustering coefficient for each care team in the dataset. Combining this care team collaboration data with patient discharge data, we can study the correlation between care team collaboration experience and patient outcomes. "
   ]
  },
  {
   "cell_type": "markdown",
   "metadata": {},
   "source": [
    "## Import libraries"
   ]
  },
  {
   "cell_type": "code",
   "execution_count": 16,
   "metadata": {},
   "outputs": [],
   "source": [
    "import pandas as pd\n",
    "import time\n",
    "import matplotlib.pyplot as plt\n",
    "import seaborn as sns\n",
    "import statsmodels.api as sm\n",
    "from multiprocessing import Pool\n",
    "import os\n",
    "import sys\n",
    "\n",
    "# Import from the parent directory\n",
    "sys.path.append(os.path.join(os.getcwd(), '..'))\n",
    "from teamwork import teamwork as tw\n",
    "from utils import utils"
   ]
  },
  {
   "cell_type": "markdown",
   "metadata": {},
   "source": [
    "## Read in EHR data and create study runner object\n",
    "\n",
    "The study runner is an iterable (generator) object"
   ]
  },
  {
   "cell_type": "code",
   "execution_count": 8,
   "metadata": {},
   "outputs": [],
   "source": [
    "#Get EHR notes data\n",
    "notes_df = pd.read_csv(utils.notes_with_disposition_file, parse_dates=[2])\n",
    "\n",
    "# set a 90 day window to find collaboration among care teams\n",
    "WINDOW = 90\n",
    "\n",
    "# identify care teams within 2 day increments \n",
    "STEP = 2\n",
    "\n",
    "# create the study runner\n",
    "get_care_dates = tw.TeamworkStudyRunner(notes_df, WINDOW, STEP)"
   ]
  },
  {
   "cell_type": "markdown",
   "metadata": {},
   "source": [
    "## Gather data for each care team identified on each care date\n",
    "\n",
    "The `get_careteam_data` utility function uses the `care_team` network graph\n",
    "to calculate the cumulative experience and other metrics for the care team\n"
   ]
  },
  {
   "cell_type": "code",
   "execution_count": 15,
   "metadata": {},
   "outputs": [
    {
     "name": "stdout",
     "output_type": "stream",
     "text": [
      "It took 118.70449000000008 seconds or 1.978408166666668 minutes to process a total of 2721 notes. The study walked through the notes 2 days at a time to identify care teams and calculate care team experience within the previous 90 day window.\n"
     ]
    }
   ],
   "source": [
    "# measure performance\n",
    "start_time = time.perf_counter()\n",
    "\n",
    "# flatten the experience data into a list\n",
    "experience_data_list = [utils.get_careteam_data(care_team) for care_date in get_care_dates for care_team in care_date]\n",
    "\n",
    "stop_time = time.perf_counter()\n",
    "\n",
    "print(f\"It took {stop_time - start_time} seconds or {(stop_time - start_time) / 60} minutes\"\n",
    "      + f\" to process a total of {len(notes_df.index)} notes. The study walked through the notes {STEP} days at a time\"\n",
    "      + f\" to identify care teams and calculate care team experience within the previous {WINDOW} day window.\")"
   ]
  },
  {
   "cell_type": "markdown",
   "metadata": {},
   "source": [
    "## Convert data into DataFrame for analysis\n",
    "\n",
    "To study care team experience and patient outcomes, we need to tie in the patient info from discharge data "
   ]
  },
  {
   "cell_type": "code",
   "execution_count": 5,
   "metadata": {},
   "outputs": [
    {
     "name": "stdout",
     "output_type": "stream",
     "text": [
      "(388, 12)\n"
     ]
    }
   ],
   "source": [
    "experience_df = pd.DataFrame(experience_data_list, columns=utils.columns).drop_duplicates()\n",
    "\n",
    "discharges_df = pd.read_csv(utils.discharges_with_disposition_file)\n",
    "\n",
    "experience_master_df = experience_df.merge(discharges_df, left_on='discharge_id', right_on='id', copy=False)\n",
    "\n",
    "print(experience_master_df.shape)"
   ]
  },
  {
   "cell_type": "markdown",
   "metadata": {},
   "source": [
    "## Analysis can be performed on the resulting DataFrame to study the correlation between cumulative care team experience and patient outcomes "
   ]
  },
  {
   "cell_type": "code",
   "execution_count": 6,
   "metadata": {},
   "outputs": [
    {
     "data": {
      "text/html": [
       "<table class=\"simpletable\">\n",
       "<caption>Generalized Linear Model Regression Results</caption>\n",
       "<tr>\n",
       "  <th>Dep. Variable:</th>      <td>disposition</td>   <th>  No. Observations:  </th>  <td>   388</td> \n",
       "</tr>\n",
       "<tr>\n",
       "  <th>Model:</th>                  <td>GLM</td>       <th>  Df Residuals:      </th>  <td>   385</td> \n",
       "</tr>\n",
       "<tr>\n",
       "  <th>Model Family:</th>        <td>Binomial</td>     <th>  Df Model:          </th>  <td>     2</td> \n",
       "</tr>\n",
       "<tr>\n",
       "  <th>Link Function:</th>         <td>logit</td>      <th>  Scale:             </th> <td>  1.0000</td>\n",
       "</tr>\n",
       "<tr>\n",
       "  <th>Method:</th>                <td>IRLS</td>       <th>  Log-Likelihood:    </th> <td> -110.87</td>\n",
       "</tr>\n",
       "<tr>\n",
       "  <th>Date:</th>            <td>Tue, 26 Jan 2021</td> <th>  Deviance:          </th> <td>  221.74</td>\n",
       "</tr>\n",
       "<tr>\n",
       "  <th>Time:</th>                <td>12:07:06</td>     <th>  Pearson chi2:      </th>  <td>  388.</td> \n",
       "</tr>\n",
       "<tr>\n",
       "  <th>No. Iterations:</th>          <td>5</td>        <th>                     </th>     <td> </td>   \n",
       "</tr>\n",
       "<tr>\n",
       "  <th>Covariance Type:</th>     <td>nonrobust</td>    <th>                     </th>     <td> </td>   \n",
       "</tr>\n",
       "</table>\n",
       "<table class=\"simpletable\">\n",
       "<tr>\n",
       "      <td></td>         <th>coef</th>     <th>std err</th>      <th>z</th>      <th>P>|z|</th>  <th>[0.025</th>    <th>0.975]</th>  \n",
       "</tr>\n",
       "<tr>\n",
       "  <th>Intercept</th> <td>   -8.2942</td> <td>    3.073</td> <td>   -2.699</td> <td> 0.007</td> <td>  -14.317</td> <td>   -2.271</td>\n",
       "</tr>\n",
       "<tr>\n",
       "  <th>avg_clust</th> <td>   -0.0897</td> <td>    0.472</td> <td>   -0.190</td> <td> 0.849</td> <td>   -1.014</td> <td>    0.835</td>\n",
       "</tr>\n",
       "<tr>\n",
       "  <th>age</th>       <td>    0.0815</td> <td>    0.041</td> <td>    1.966</td> <td> 0.049</td> <td>    0.000</td> <td>    0.163</td>\n",
       "</tr>\n",
       "</table>"
      ],
      "text/plain": [
       "<class 'statsmodels.iolib.summary.Summary'>\n",
       "\"\"\"\n",
       "                 Generalized Linear Model Regression Results                  \n",
       "==============================================================================\n",
       "Dep. Variable:            disposition   No. Observations:                  388\n",
       "Model:                            GLM   Df Residuals:                      385\n",
       "Model Family:                Binomial   Df Model:                            2\n",
       "Link Function:                  logit   Scale:                          1.0000\n",
       "Method:                          IRLS   Log-Likelihood:                -110.87\n",
       "Date:                Tue, 26 Jan 2021   Deviance:                       221.74\n",
       "Time:                        12:07:06   Pearson chi2:                     388.\n",
       "No. Iterations:                     5                                         \n",
       "Covariance Type:            nonrobust                                         \n",
       "==============================================================================\n",
       "                 coef    std err          z      P>|z|      [0.025      0.975]\n",
       "------------------------------------------------------------------------------\n",
       "Intercept     -8.2942      3.073     -2.699      0.007     -14.317      -2.271\n",
       "avg_clust     -0.0897      0.472     -0.190      0.849      -1.014       0.835\n",
       "age            0.0815      0.041      1.966      0.049       0.000       0.163\n",
       "==============================================================================\n",
       "\"\"\""
      ]
     },
     "execution_count": 6,
     "metadata": {},
     "output_type": "execute_result"
    }
   ],
   "source": [
    "def get_model(var):\n",
    "    return sm.GLM.from_formula(f'disposition ~ {var} + age', family = sm.families.Binomial(), data=experience_master_df)\n",
    "\n",
    "model = get_model('avg_clust')\n",
    "result = model.fit()\n",
    "result.summary() "
   ]
  },
  {
   "cell_type": "code",
   "execution_count": 7,
   "metadata": {},
   "outputs": [
    {
     "data": {
      "text/html": [
       "<table class=\"simpletable\">\n",
       "<caption>Generalized Linear Model Regression Results</caption>\n",
       "<tr>\n",
       "  <th>Dep. Variable:</th>      <td>disposition</td>   <th>  No. Observations:  </th>  <td>   388</td> \n",
       "</tr>\n",
       "<tr>\n",
       "  <th>Model:</th>                  <td>GLM</td>       <th>  Df Residuals:      </th>  <td>   385</td> \n",
       "</tr>\n",
       "<tr>\n",
       "  <th>Model Family:</th>        <td>Binomial</td>     <th>  Df Model:          </th>  <td>     2</td> \n",
       "</tr>\n",
       "<tr>\n",
       "  <th>Link Function:</th>         <td>logit</td>      <th>  Scale:             </th> <td>  1.0000</td>\n",
       "</tr>\n",
       "<tr>\n",
       "  <th>Method:</th>                <td>IRLS</td>       <th>  Log-Likelihood:    </th> <td> -109.06</td>\n",
       "</tr>\n",
       "<tr>\n",
       "  <th>Date:</th>            <td>Tue, 26 Jan 2021</td> <th>  Deviance:          </th> <td>  218.12</td>\n",
       "</tr>\n",
       "<tr>\n",
       "  <th>Time:</th>                <td>12:07:06</td>     <th>  Pearson chi2:      </th>  <td>  384.</td> \n",
       "</tr>\n",
       "<tr>\n",
       "  <th>No. Iterations:</th>          <td>6</td>        <th>                     </th>     <td> </td>   \n",
       "</tr>\n",
       "<tr>\n",
       "  <th>Covariance Type:</th>     <td>nonrobust</td>    <th>                     </th>     <td> </td>   \n",
       "</tr>\n",
       "</table>\n",
       "<table class=\"simpletable\">\n",
       "<tr>\n",
       "            <td></td>               <th>coef</th>     <th>std err</th>      <th>z</th>      <th>P>|z|</th>  <th>[0.025</th>    <th>0.975]</th>  \n",
       "</tr>\n",
       "<tr>\n",
       "  <th>Intercept</th>             <td>   -8.1931</td> <td>    3.117</td> <td>   -2.628</td> <td> 0.009</td> <td>  -14.303</td> <td>   -2.083</td>\n",
       "</tr>\n",
       "<tr>\n",
       "  <th>cumulative_experience</th> <td>   -0.0447</td> <td>    0.025</td> <td>   -1.765</td> <td> 0.078</td> <td>   -0.094</td> <td>    0.005</td>\n",
       "</tr>\n",
       "<tr>\n",
       "  <th>age</th>                   <td>    0.0839</td> <td>    0.042</td> <td>    1.991</td> <td> 0.046</td> <td>    0.001</td> <td>    0.167</td>\n",
       "</tr>\n",
       "</table>"
      ],
      "text/plain": [
       "<class 'statsmodels.iolib.summary.Summary'>\n",
       "\"\"\"\n",
       "                 Generalized Linear Model Regression Results                  \n",
       "==============================================================================\n",
       "Dep. Variable:            disposition   No. Observations:                  388\n",
       "Model:                            GLM   Df Residuals:                      385\n",
       "Model Family:                Binomial   Df Model:                            2\n",
       "Link Function:                  logit   Scale:                          1.0000\n",
       "Method:                          IRLS   Log-Likelihood:                -109.06\n",
       "Date:                Tue, 26 Jan 2021   Deviance:                       218.12\n",
       "Time:                        12:07:06   Pearson chi2:                     384.\n",
       "No. Iterations:                     6                                         \n",
       "Covariance Type:            nonrobust                                         \n",
       "=========================================================================================\n",
       "                            coef    std err          z      P>|z|      [0.025      0.975]\n",
       "-----------------------------------------------------------------------------------------\n",
       "Intercept                -8.1931      3.117     -2.628      0.009     -14.303      -2.083\n",
       "cumulative_experience    -0.0447      0.025     -1.765      0.078      -0.094       0.005\n",
       "age                       0.0839      0.042      1.991      0.046       0.001       0.167\n",
       "=========================================================================================\n",
       "\"\"\""
      ]
     },
     "execution_count": 7,
     "metadata": {},
     "output_type": "execute_result"
    }
   ],
   "source": [
    "model = get_model('cumulative_experience')\n",
    "result = model.fit()\n",
    "result.summary() "
   ]
  },
  {
   "cell_type": "code",
   "execution_count": 8,
   "metadata": {},
   "outputs": [
    {
     "data": {
      "text/html": [
       "<table class=\"simpletable\">\n",
       "<caption>Generalized Linear Model Regression Results</caption>\n",
       "<tr>\n",
       "  <th>Dep. Variable:</th>      <td>disposition</td>   <th>  No. Observations:  </th>  <td>   388</td> \n",
       "</tr>\n",
       "<tr>\n",
       "  <th>Model:</th>                  <td>GLM</td>       <th>  Df Residuals:      </th>  <td>   385</td> \n",
       "</tr>\n",
       "<tr>\n",
       "  <th>Model Family:</th>        <td>Binomial</td>     <th>  Df Model:          </th>  <td>     2</td> \n",
       "</tr>\n",
       "<tr>\n",
       "  <th>Link Function:</th>         <td>logit</td>      <th>  Scale:             </th> <td>  1.0000</td>\n",
       "</tr>\n",
       "<tr>\n",
       "  <th>Method:</th>                <td>IRLS</td>       <th>  Log-Likelihood:    </th> <td> -109.69</td>\n",
       "</tr>\n",
       "<tr>\n",
       "  <th>Date:</th>            <td>Tue, 26 Jan 2021</td> <th>  Deviance:          </th> <td>  219.37</td>\n",
       "</tr>\n",
       "<tr>\n",
       "  <th>Time:</th>                <td>12:07:06</td>     <th>  Pearson chi2:      </th>  <td>  383.</td> \n",
       "</tr>\n",
       "<tr>\n",
       "  <th>No. Iterations:</th>          <td>6</td>        <th>                     </th>     <td> </td>   \n",
       "</tr>\n",
       "<tr>\n",
       "  <th>Covariance Type:</th>     <td>nonrobust</td>    <th>                     </th>     <td> </td>   \n",
       "</tr>\n",
       "</table>\n",
       "<table class=\"simpletable\">\n",
       "<tr>\n",
       "              <td></td>                 <th>coef</th>     <th>std err</th>      <th>z</th>      <th>P>|z|</th>  <th>[0.025</th>    <th>0.975]</th>  \n",
       "</tr>\n",
       "<tr>\n",
       "  <th>Intercept</th>                 <td>   -8.1604</td> <td>    3.104</td> <td>   -2.629</td> <td> 0.009</td> <td>  -14.244</td> <td>   -2.077</td>\n",
       "</tr>\n",
       "<tr>\n",
       "  <th>avg_cumulative_experience</th> <td>   -0.2820</td> <td>    0.188</td> <td>   -1.500</td> <td> 0.134</td> <td>   -0.650</td> <td>    0.086</td>\n",
       "</tr>\n",
       "<tr>\n",
       "  <th>age</th>                       <td>    0.0835</td> <td>    0.042</td> <td>    1.990</td> <td> 0.047</td> <td>    0.001</td> <td>    0.166</td>\n",
       "</tr>\n",
       "</table>"
      ],
      "text/plain": [
       "<class 'statsmodels.iolib.summary.Summary'>\n",
       "\"\"\"\n",
       "                 Generalized Linear Model Regression Results                  \n",
       "==============================================================================\n",
       "Dep. Variable:            disposition   No. Observations:                  388\n",
       "Model:                            GLM   Df Residuals:                      385\n",
       "Model Family:                Binomial   Df Model:                            2\n",
       "Link Function:                  logit   Scale:                          1.0000\n",
       "Method:                          IRLS   Log-Likelihood:                -109.69\n",
       "Date:                Tue, 26 Jan 2021   Deviance:                       219.37\n",
       "Time:                        12:07:06   Pearson chi2:                     383.\n",
       "No. Iterations:                     6                                         \n",
       "Covariance Type:            nonrobust                                         \n",
       "=============================================================================================\n",
       "                                coef    std err          z      P>|z|      [0.025      0.975]\n",
       "---------------------------------------------------------------------------------------------\n",
       "Intercept                    -8.1604      3.104     -2.629      0.009     -14.244      -2.077\n",
       "avg_cumulative_experience    -0.2820      0.188     -1.500      0.134      -0.650       0.086\n",
       "age                           0.0835      0.042      1.990      0.047       0.001       0.166\n",
       "=============================================================================================\n",
       "\"\"\""
      ]
     },
     "execution_count": 8,
     "metadata": {},
     "output_type": "execute_result"
    }
   ],
   "source": [
    "model = get_model('avg_cumulative_experience')\n",
    "result = model.fit()\n",
    "result.summary()   "
   ]
  }
 ],
 "metadata": {
  "kernelspec": {
   "display_name": "Python 3",
   "language": "python",
   "name": "python3"
  },
  "language_info": {
   "codemirror_mode": {
    "name": "ipython",
    "version": 3
   },
   "file_extension": ".py",
   "mimetype": "text/x-python",
   "name": "python",
   "nbconvert_exporter": "python",
   "pygments_lexer": "ipython3",
   "version": "3.8.6"
  }
 },
 "nbformat": 4,
 "nbformat_minor": 4
}
