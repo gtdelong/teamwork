{
 "cells": [
  {
   "cell_type": "code",
   "execution_count": 1,
   "metadata": {},
   "outputs": [],
   "source": [
    "import pandas as pd\n",
    "import time\n",
    "import matplotlib.pyplot as plt\n",
    "import seaborn as sns\n",
    "import statsmodels.api as sm\n",
    "from multiprocessing import Pool\n",
    "import os\n",
    "import sys\n",
    "\n",
    "# Import from the parent directory\n",
    "sys.path.append(os.path.join(os.getcwd(), '..'))\n",
    "from teamwork import teamwork_v2 as tw\n",
    "from utils import utils"
   ]
  },
  {
   "cell_type": "code",
   "execution_count": 2,
   "metadata": {},
   "outputs": [
    {
     "name": "stdout",
     "output_type": "stream",
     "text": [
      "It took 0.4778413999999884 seconds or 0.007964023333333141 minutes to process a total of 20 notes. The study walked through the notes 1 days at a time to identify care teams and calculate care team experience within the previous 90 day window.\n"
     ]
    }
   ],
   "source": [
    "#Get EHR notes data\n",
    "notes_df = pd.read_csv(utils.notes_test_file, parse_dates=[2])\n",
    "\n",
    "# set a 90 day window to find collaboration among care teams\n",
    "WINDOW = 90\n",
    "\n",
    "# identify care teams within 2 day increments \n",
    "STEP = 1\n",
    "\n",
    "# measure performance\n",
    "start_time = time.perf_counter()\n",
    "\n",
    "# create the study runner\n",
    "get_care_dates = tw.TeamworkStudyRunner(notes_df, WINDOW, STEP)\n",
    "\n",
    "stop_time = time.perf_counter()\n",
    "\n",
    "print(f\"It took {stop_time - start_time} seconds or {(stop_time - start_time) / 60} minutes\"\n",
    "      + f\" to process a total of {len(notes_df.index)} notes. The study walked through the notes {STEP} days at a time\"\n",
    "      + f\" to identify care teams and calculate care team experience within the previous {WINDOW} day window.\")"
   ]
  },
  {
   "cell_type": "code",
   "execution_count": 3,
   "metadata": {},
   "outputs": [],
   "source": [
    "# flatten the experience data into a list\n",
    "experience_data_list = [utils.get_careteam_data(care_team) for care_date in get_care_dates for care_team in care_date]"
   ]
  },
  {
   "cell_type": "code",
   "execution_count": 4,
   "metadata": {},
   "outputs": [
    {
     "name": "stdout",
     "output_type": "stream",
     "text": [
      "{'discharge_id': 6, 'avg_clust': 1.0, 'team_size': 7, 'team_edge_size': 21, 'cumulative_experience': 33.0, 'avg_cumulative_experience': 4.714285714285714}\n",
      "{'discharge_id': 6, 'avg_clust': 1.0, 'team_size': 7, 'team_edge_size': 21, 'cumulative_experience': 54.0, 'avg_cumulative_experience': 7.714285714285714}\n",
      "{'discharge_id': 7, 'avg_clust': 0, 'team_size': 0, 'team_edge_size': 0, 'cumulative_experience': 0.0, 'avg_cumulative_experience': 0.0}\n"
     ]
    }
   ],
   "source": [
    "for item in experience_data_list:\n",
    "    print(item)"
   ]
  }
 ],
 "metadata": {
  "kernelspec": {
   "display_name": "Python 3",
   "language": "python",
   "name": "python3"
  },
  "language_info": {
   "codemirror_mode": {
    "name": "ipython",
    "version": 3
   },
   "file_extension": ".py",
   "mimetype": "text/x-python",
   "name": "python",
   "nbconvert_exporter": "python",
   "pygments_lexer": "ipython3",
   "version": "3.8.6"
  }
 },
 "nbformat": 4,
 "nbformat_minor": 4
}
