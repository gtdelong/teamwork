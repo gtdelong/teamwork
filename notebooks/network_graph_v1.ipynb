{
 "cells": [
  {
   "cell_type": "code",
   "execution_count": null,
   "metadata": {},
   "outputs": [],
   "source": [
    "import random\n",
    "from datetime import datetime, date, timedelta\n",
    "from itertools import chain\n",
    "import pandas as pd\n",
    "import networkx as nx\n",
    "from itertools import combinations  \n",
    "import numpy as np\n",
    "import time\n",
    "\n",
    "class CollaborationNetworkGraph:\n",
    "    def __init__(self, note_df):\n",
    "        \"\"\"notes_df is assumed to be sorted by date\"\"\"\n",
    "        self.note_df = note_df\n",
    "        self.G = nx.Graph()\n",
    "        self.unique_dates = note_df.date.unique()\n",
    "        self.__create_graph()\n",
    "        \n",
    "    def __create_graph(self):\n",
    "        for note_date in self.unique_dates:\n",
    "            notes_for_date = self.note_df.query('date == @note_date')\n",
    "            discharge_ids_for_date = notes_for_date.discharge_id.unique()\n",
    "            for discharge_id in discharge_ids_for_date:\n",
    "                drs_for_discharge_id = notes_for_date.query('discharge_id == @discharge_id').dr.unique()\n",
    "                for comb in list(combinations(drs_for_discharge_id, 2)): self.__add_edge_to_G(*comb)\n",
    "                # this is where the calculations may need to go...\n",
    "                # this method could be public and yield results for each team\n",
    "        \n",
    "    def __add_edge_to_G(self, name1, name2):\n",
    "        edge = (name1, name2)\n",
    "        data = self.G.get_edge_data(*edge, default=None)\n",
    "        weight = 1 if data is None else data['weight'] + 1\n",
    "        self.G.add_edge(*edge, weight=weight)\n",
    "        \n",
    "class GraphGenerator:\n",
    "    def __init__(self, note_df, window_in_days, step_in_days):\n",
    "        note_df.sort_values('date', inplace=True)\n",
    "        self.note_df = note_df\n",
    "        self.DELTA = np.timedelta64(window_in_days, 'D')\n",
    "        step = np.timedelta64(step_in_days, 'D')\n",
    "        first_date = note_df['date'].iloc[0]\n",
    "        last_date = note_df['date'].iloc[-1]\n",
    "        self.date_range = np.arange(first_date, last_date - self.DELTA, step)\n",
    "        \n",
    "    def __iter__(self):\n",
    "        for start_date in self.date_range:\n",
    "            end_date = start_date + self.DELTA\n",
    "            notes_in_window = self.note_df.query('date >= @start_date & date <= @end_date')\n",
    "            graph = CollaborationNetworkGraph(notes_in_window)\n",
    "            yield graph"
   ]
  },
  {
   "cell_type": "code",
   "execution_count": null,
   "metadata": {},
   "outputs": [],
   "source": [
    "note_df = pd.read_csv('./data/notes.csv', parse_dates=[2])\n",
    "\n",
    "WINDOW = 90\n",
    "STEP = 7\n",
    "\n",
    "get_graphs = GraphGenerator(note_df, WINDOW, STEP)\n",
    "    \n",
    "for graph in get_graphs:\n",
    "#     clust_coefficients = nx.clustering(graph.G)\n",
    "#     print(clust_coefficients)"
   ]
  }
 ],
 "metadata": {
  "kernelspec": {
   "display_name": "Python 3",
   "language": "python",
   "name": "python3"
  },
  "language_info": {
   "codemirror_mode": {
    "name": "ipython",
    "version": 3
   },
   "file_extension": ".py",
   "mimetype": "text/x-python",
   "name": "python",
   "nbconvert_exporter": "python",
   "pygments_lexer": "ipython3",
   "version": "3.8.6"
  }
 },
 "nbformat": 4,
 "nbformat_minor": 4
}
